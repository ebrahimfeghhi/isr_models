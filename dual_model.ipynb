{
 "cells": [
  {
   "cell_type": "code",
   "execution_count": 2,
   "metadata": {},
   "outputs": [],
   "source": [
    "from isr_psych_models import MultiTrialSEM, primacy_model\n",
    "import numpy as np\n",
    "from matplotlib import pyplot as plt"
   ]
  },
  {
   "cell_type": "code",
   "execution_count": 3,
   "metadata": {},
   "outputs": [],
   "source": [
    "class ordinal_positional_model(MultiTrialSEM, primacy_model):\n",
    "    \n",
    "    def __init__(self, SEM_params, PM_params, EM_threshold):\n",
    "\n",
    "        MultiTrialSEM.__init__(self, param_dict=SEM_params)\n",
    "        primacy_model.__init__(self, params_dict=PM_params)\n",
    "        self.EM_threshold = EM_threshold\n",
    "        self.num_EM_recalls = 0\n",
    "        self.group_size = self.list_length # ignoring grouping effects by setting group size to list length\n",
    "\n",
    "    def list_presentation_SEM_PM(self, items):\n",
    "\n",
    "        self.list_presentation(list_length=self.list_length, group_size=self.group_size, items=items)\n",
    "        self.present_list(items)\n",
    "\n",
    "    def recall_list_SEM_PM(self):\n",
    "\n",
    "        for i in range(self.list_length):\n",
    "\n",
    "            # add selection noise\n",
    "            item_act_noisy = self.item_activations + np.random.default_rng().normal(0, self.N, self.vocab_size_PM)\n",
    "\n",
    "            # retrieve strongest activated item \n",
    "            selected_item = np.argmax(item_act_noisy)\n",
    "            selected_item_act = np.max(item_act_noisy)    \n",
    "\n",
    "            # add noise to selected item before comparing to output threshold \n",
    "            selected_item_act += np.random.default_rng().normal(0, self.M, 1)[0]\n",
    "\n",
    "            # check if activation of selected item is greater than the threshold\n",
    "            # if not, cue SEM\n",
    "            if selected_item_act >= self.EM_threshold:\n",
    "                # run SEM recall method to decay context and phonological token and suppress item \n",
    "                _ = self.recall_selection(i+1, i+1, recalled_item=selected_item)\n",
    "            else:\n",
    "                self.num_EM_recalls += 1\n",
    "                selected_item = self.recall_selection(i+1, i+1)\n",
    "\n",
    "            # set activation of selected item to 0 to model response suppression \n",
    "            self.item_activations[selected_item] = 0 \n",
    "            self.activation_dynamics(recall_mode=True, item_inputs=np.zeros(self.vocab_size_PM))\n",
    "\n",
    "    def simulate_lists_SEM_PM(self, num_trials):\n",
    "\n",
    "        self.presented_list_storage = np.zeros((num_trials, self.list_length))\n",
    "        self.recalled_list_storage = np.zeros((num_trials, self.list_length))\n",
    "\n",
    "        for i in range(num_trials):\n",
    "\n",
    "            if i % 2 == 0:\n",
    "                vocab = np.arange(0,6,1)\n",
    "            else:\n",
    "                vocab = np.arange(6,12,1)\n",
    "\n",
    "            current_list = np.random.default_rng().choice(vocab, self.list_length, replace=False)\n",
    "\n",
    "            self.presented_list_storage[i] = current_list\n",
    "\n",
    "            self.list_presentation_SEM_PM(current_list)\n",
    "            self.recall_list_SEM_PM()\n",
    "\n",
    "            self.recalled_list_storage[i] = self.recalled_list\n",
    "\n",
    "        self.compute_errors_fig3(num_trials)\n",
    "\n",
    "    def compute_errors_fig3(self, num_trials):\n",
    "\n",
    "        self.frac_errors_list = []\n",
    "        self.frac_omissions_list = []\n",
    "        \n",
    "        for l in range(self.list_length):\n",
    "\n",
    "            presented_items_pos_l = self.presented_list_storage[:, l]\n",
    "            recalled_items_pos_l = self.recalled_list_storage[:, l]\n",
    "            \n",
    "            frac_errors = np.round(1- np.argwhere(recalled_items_pos_l==presented_items_pos_l).shape[0] / num_trials,2)\n",
    "            frac_omissions = np.argwhere(recalled_items_pos_l==-1).shape[0] / num_trials\n",
    "            self.frac_errors_list.append(frac_errors)\n",
    "            self.frac_omissions_list.append(frac_omissions)"
   ]
  },
  {
   "cell_type": "code",
   "execution_count": 4,
   "metadata": {},
   "outputs": [],
   "source": [
    "params_SEM = {'s0': 1.0, 'e0': 0.60, 'S':0.8 , 'E': 0.48, 'G_c': 0.06, 'G_p':0.0, 'R_s': 0.50, \n",
    "                        'R_p': 0.20, 'T_o': 0.35, 'E_c': 0.98, 'E_l': 1.0, 'C_p': 1, 'C_d': 0, 'C_r': 1, 'C_i':36, 'C_a': 5, 'A_p':0,\n",
    "                        'P_s':1, 'P_d':0, 'vocab_size_SM':12, 'max_tokens':30}\n",
    "\n",
    "params_dict_PM = {'P':11.5, 'D':0.27, 'T':0.49, 'M':0.74, 'N':0.23, 'vocab_size_PM':12, 'input_strength':50, \n",
    "                    'item_presentation_rate':0.4, 'blank':0.1, 'R': 4, \n",
    "                    'list_length':6, 'output_time': 0.5, 'dt':0.005}\n",
    "\n",
    "\n",
    "\n",
    "# manipulate inter-trial interval lengths\n",
    "C_i_arr = [0, 4, 16, 36]\n",
    "num_trials = 1000\n",
    "\n",
    "perf_c_i_SEM = []\n",
    "intrusions_c_i_SEM = []\n",
    "immediate_intrusions_c_i_SEM = []\n",
    "output_protrusions_c_i_SEM = []\n",
    "\n",
    "perf_c_i_odm = []\n",
    "intrusions_c_i_odm= []\n",
    "immediate_intrusions_c_i_odm = []\n",
    "output_protrusions_c_i_odm = []\n",
    "\n",
    "for c_i in C_i_arr:\n",
    "    params_SEM['C_i'] = c_i\n",
    "    SEM = ordinal_positional_model(params_SEM, params_dict_PM, EM_threshold=100)\n",
    "    odm = ordinal_positional_model(params_SEM, params_dict_PM, EM_threshold=1.0)\n",
    "    SEM.simulate_lists_SEM_PM(num_trials)\n",
    "    odm.simulate_lists_SEM_PM(num_trials)\n",
    "    perf_c_i_SEM.append(SEM.frac_errors_list)\n",
    "    intrusions_c_i_SEM.append(SEM.num_intrusions)\n",
    "    output_protrusions_c_i_SEM.append(SEM.num_output_protrusions)\n",
    "    perf_c_i_odm.append(odm.frac_errors_list)\n",
    "    intrusions_c_i_odm.append(odm.num_intrusions)\n",
    "    output_protrusions_c_i_odm.append(odm.num_output_protrusions)"
   ]
  },
  {
   "cell_type": "code",
   "execution_count": 7,
   "metadata": {},
   "outputs": [
    {
     "data": {
      "image/png": "[encoded data removed]",
      "text/plain": [
       "<Figure size 432x288 with 1 Axes>"
      ]
     },
     "metadata": {
      "needs_background": "light"
     },
     "output_type": "display_data"
    },
    {
     "data": {
      "image/png": "[encoded data removed]",
      "text/plain": [
       "<Figure size 432x288 with 1 Axes>"
      ]
     },
     "metadata": {
      "needs_background": "light"
     },
     "output_type": "display_data"
    },
    {
     "data": {
      "image/png": "[encoded data removed]",
      "text/plain": [
       "<Figure size 432x288 with 1 Axes>"
      ]
     },
     "metadata": {
      "needs_background": "light"
     },
     "output_type": "display_data"
    },
    {
     "data": {
      "image/png": "[encoded data removed]",
      "text/plain": [
       "<Figure size 432x288 with 1 Axes>"
      ]
     },
     "metadata": {
      "needs_background": "light"
     },
     "output_type": "display_data"
    }
   ],
   "source": [
    "for C_i, perf_odm, perf_sem in zip(C_i_arr, perf_c_i_odm, perf_c_i_SEM):\n",
    "    \n",
    "    mean_perf_sem = np.round(np.mean(perf_sem),2)\n",
    "    mean_perf_odm = np.round(np.mean(perf_odm),2)\n",
    "    plt.bar(np.arange(1,7,1), perf_sem, width=0.25, label=f'SEM {mean_perf_sem}')\n",
    "    plt.bar(np.arange(1.25,7.25,1), perf_odm, width=0.25, label=f\"PM+SEM {mean_perf_odm}\")\n",
    "    plt.legend()\n",
    "    plt.ylim(0,.5)\n",
    "    plt.title(f'Inter-trial interval {C_i}', fontsize=14)\n",
    "    plt.show()"
   ]
  },
  {
   "cell_type": "code",
   "execution_count": 12,
   "metadata": {},
   "outputs": [
    {
     "data": {
      "text/plain": [
       "[[0.05, 0.13, 0.18, 0.23, 0.27, 0.17],\n",
       " [0.06, 0.15, 0.2, 0.24, 0.28, 0.16],\n",
       " [0.05, 0.12, 0.17, 0.25, 0.31, 0.17],\n",
       " [0.06, 0.13, 0.18, 0.24, 0.28, 0.17]]"
      ]
     },
     "execution_count": 12,
     "metadata": {},
     "output_type": "execute_result"
    }
   ],
   "source": [
    "perf_c_i_odm"
   ]
  },
  {
   "cell_type": "markdown",
   "metadata": {},
   "source": [
    "<h3> Short inter-trial interval </h3> \n",
    "Fraction of errors across serial positions: 0.06, 0.14, 0.2, 0.26, 0.32, 0.28 \n",
    "\n",
    "Number of immediate intrusions: 898  \n",
    "\n",
    "Number of protrusions: 193 \n",
    "\n",
    "Number of protrusions expected by chance: 149.6\n",
    "\n",
    "\n",
    "\n",
    "\n",
    "<h3> Long inter-trial interval </h3> \n",
    "\n",
    "Fraction of errors across serial positions: 0.06, 0.14, 0.19, 0.24, 0.31, 0.26 \n",
    "\n",
    "Number of immediate intrusions: 70 \n",
    "\n",
    "Number of protrusions: 11 \n",
    "\n",
    "Number of protrusions expected by chance: 11.6\n",
    "\n",
    "\n",
    "\n",
    "\n",
    "\n"
   ]
  }
 ],
 "metadata": {
  "kernelspec": {
   "display_name": "Python 3.8.10 64-bit",
   "language": "python",
   "name": "python3"
  },
  "language_info": {
   "codemirror_mode": {
    "name": "ipython",
    "version": 3
   },
   "file_extension": ".py",
   "mimetype": "text/x-python",
   "name": "python",
   "nbconvert_exporter": "python",
   "pygments_lexer": "ipython3",
   "version": "3.9.7"
  },
  "orig_nbformat": 4,
  "vscode": {
   "interpreter": {
    "hash": "e7370f93d1d0cde622a1f8e1c04877d8463912d04d973331ad4851f04de6915a"
   }
  }
 },
 "nbformat": 4,
 "nbformat_minor": 2
}
