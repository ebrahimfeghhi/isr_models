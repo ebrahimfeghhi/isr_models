{
 "cells": [
  {
   "cell_type": "code",
   "execution_count": 2,
   "metadata": {},
   "outputs": [],
   "source": [
    "from SEM import SEM\n",
    "from Primacy_model import primacy_model\n",
    "import numpy as np\n",
    "from matplotlib import pyplot as plt"
   ]
  },
  {
   "cell_type": "code",
   "execution_count": 6,
   "metadata": {},
   "outputs": [],
   "source": [
    "class ordinal_positional_model(SEM, primacy_model):\n",
    "    \n",
    "    def __init__(self, SEM_params, PM_params, EM_threshold):\n",
    "\n",
    "        SEM.__init__(self, param_dict=SEM_params)\n",
    "        primacy_model.__init__(self, params_dict=PM_params)\n",
    "        self.EM_threshold = EM_threshold\n",
    "        self.num_EM_recalls = 0\n",
    "        self.group_size = self.list_length # ignoring grouping effects by setting group size to list length\n",
    "        self.ppr = 0 # proportion of lists correctly recalled \n",
    "\n",
    "    def list_presentation_SEM_PM(self, items):\n",
    "\n",
    "        self.list_presentation(list_length=self.list_length, group_size=self.group_size, items=items)\n",
    "        self.present_list(items)\n",
    "\n",
    "    def recall_list_SEM_PM(self):\n",
    "\n",
    "        for i in range(self.list_length):\n",
    "            \n",
    "            correct_item = self.current_list[i]\n",
    "            \n",
    "            # add selection noise\n",
    "            item_act_noisy = self.item_activations + np.random.default_rng().normal(0, self.N, self.vocab_size_PM)\n",
    "\n",
    "            # retrieve strongest activated item \n",
    "            selected_item = np.argmax(item_act_noisy)\n",
    "            selected_item_act = np.max(item_act_noisy)    \n",
    "\n",
    "            # add noise to selected item before comparing to output threshold \n",
    "            selected_item_act += np.random.default_rng().normal(0, self.M, 1)[0]\n",
    "\n",
    "            # check if activation of selected item is greater than the threshold\n",
    "            # if not, cue SEM\n",
    "            if selected_item_act >= self.EM_threshold:\n",
    "                # run SEM recall method to decay context and phonological token and suppress item \n",
    "                _ = self.recall_selection(i+1, i+1, recalled_item=selected_item)\n",
    "            else:\n",
    "                self.num_EM_recalls += 1\n",
    "                selected_item = self.recall_selection(i+1, i+1)\n",
    "                \n",
    "            self.compute_errors(correct_item, selected_item, recall_position=i, \n",
    "                                prev_recalled_list=self.previously_recalled_list)\n",
    "\n",
    "            # set activation of selected item to 0 to model response suppression \n",
    "            self.item_activations[selected_item] = 0 \n",
    "            self.activation_dynamics(recall_mode=True, item_inputs=np.zeros(self.vocab_size_PM))\n",
    "\n",
    "    def simulate_lists_SEM_PM(self, num_trials):\n",
    "\n",
    "        self.presented_list_storage = np.zeros((num_trials, self.list_length))\n",
    "        self.recalled_list_storage = np.zeros((num_trials, self.list_length))\n",
    "\n",
    "        for i in range(num_trials):\n",
    "\n",
    "            if i % 2 == 0:\n",
    "                vocab = np.arange(0,6,1)\n",
    "            else:\n",
    "                vocab = np.arange(6,12,1)\n",
    "\n",
    "            current_list = np.random.default_rng().choice(vocab, self.list_length, replace=False)\n",
    "\n",
    "            self.presented_list_storage[i] = current_list\n",
    "\n",
    "            self.list_presentation_SEM_PM(current_list)\n",
    "            self.recall_list_SEM_PM()\n",
    "            \n",
    "            if np.array_equal(self.recalled_list, current_list):\n",
    "                self.ppr += 1\n",
    "                \n",
    "            self.recalled_list_storage[i] = self.recalled_list            "
   ]
  },
  {
   "cell_type": "code",
   "execution_count": 4,
   "metadata": {},
   "outputs": [],
   "source": [
    "def plot_errors(model, title_str):\n",
    "    \n",
    "    recall_pos = np.arange(1,7,1)\n",
    "    width = 0.15\n",
    "    plt.figure(figsize=(10,6))\n",
    "    plt.bar(recall_pos, model.immediate_intrusions/model.frac_errors, width=width, label=\"Immediate intrusions\")    \n",
    "    plt.bar(recall_pos + width, model.output_protrusions/model.frac_errors, width=width, label=\"Output protrusions\")\n",
    "    plt.bar(recall_pos+(width*2), model.omissions/model.frac_errors, width=width, label='Omissions')\n",
    "    plt.bar(recall_pos+(width*3), model.within_list_errors/model.frac_errors, width=width, label='Transpositions + Repetitions')\n",
    "    plt.legend()\n",
    "    plt.title(title_str, fontsize=16)    \n",
    "    plt.ylim(0,1.2)\n",
    "    plt.show()"
   ]
  },
  {
   "cell_type": "code",
   "execution_count": 1,
   "metadata": {},
   "outputs": [],
   "source": [
    "params_SEM = {'s0': 1.0, 'e0': 0.6, 'S':0.8 , 'E': 0.48, 'G_c': 0.06, 'G_p':0, 'R_s': 0.50, \n",
    "                        'R_p': 0.20, 'T_o': 0.35, 'E_c': 0.98, 'E_l': 0.985, 'C_p': 1, 'C_d': 0, \n",
    "                        'C_r': 1, 'C_i':0, 'C_a': 5, 'A_p':0,\n",
    "                        'P_s':1, 'P_d':0, 'vocab_size_SM':12, 'max_tokens':30, 'omission_val':-1}\n",
    "\n",
    "params_dict_PM = {'P':11.5, 'D':0.27, 'T':0.49, 'M':0.74, 'N':0.23, 'vocab_size_PM':12, 'input_strength':50, \n",
    "                    'item_presentation_rate':0.4, 'blank':0.1, 'R': 4, \n",
    "                    'list_length':6, 'output_time': 0.5, 'dt':0.005, 'R_p':0.9}"
   ]
  },
  {
   "cell_type": "code",
   "execution_count": 5,
   "metadata": {},
   "outputs": [
    {
     "ename": "KeyError",
     "evalue": "'list_length'",
     "output_type": "error",
     "traceback": [
      "\u001b[0;31m---------------------------------------------------------------------------\u001b[0m",
      "\u001b[0;31mKeyError\u001b[0m                                  Traceback (most recent call last)",
      "\u001b[0;32m/tmp/ipykernel_1056604/2637597276.py\u001b[0m in \u001b[0;36m<module>\u001b[0;34m\u001b[0m\n\u001b[1;32m      1\u001b[0m \u001b[0mEM_threshold_SEM_only\u001b[0m \u001b[0;34m=\u001b[0m \u001b[0;36m1e7\u001b[0m\u001b[0;34m\u001b[0m\u001b[0;34m\u001b[0m\u001b[0m\n\u001b[0;32m----> 2\u001b[0;31m \u001b[0mSEM_only\u001b[0m \u001b[0;34m=\u001b[0m \u001b[0mordinal_positional_model\u001b[0m\u001b[0;34m(\u001b[0m\u001b[0mparams_SEM\u001b[0m\u001b[0;34m,\u001b[0m \u001b[0mparams_dict_PM\u001b[0m\u001b[0;34m,\u001b[0m \u001b[0mEM_threshold\u001b[0m\u001b[0;34m=\u001b[0m\u001b[0mEM_threshold_SEM_only\u001b[0m\u001b[0;34m)\u001b[0m\u001b[0;34m\u001b[0m\u001b[0;34m\u001b[0m\u001b[0m\n\u001b[0m\u001b[1;32m      3\u001b[0m \u001b[0mSEM_only\u001b[0m\u001b[0;34m.\u001b[0m\u001b[0mpositional_overlap\u001b[0m\u001b[0;34m(\u001b[0m\u001b[0mlist_length\u001b[0m\u001b[0;34m=\u001b[0m\u001b[0;36m5\u001b[0m\u001b[0;34m,\u001b[0m \u001b[0mplot\u001b[0m\u001b[0;34m=\u001b[0m\u001b[0;32mTrue\u001b[0m\u001b[0;34m)\u001b[0m\u001b[0;34m\u001b[0m\u001b[0;34m\u001b[0m\u001b[0m\n",
      "\u001b[0;32m/tmp/ipykernel_1056604/2238032039.py\u001b[0m in \u001b[0;36m__init__\u001b[0;34m(self, SEM_params, PM_params, EM_threshold)\u001b[0m\n\u001b[1;32m      3\u001b[0m     \u001b[0;32mdef\u001b[0m \u001b[0m__init__\u001b[0m\u001b[0;34m(\u001b[0m\u001b[0mself\u001b[0m\u001b[0;34m,\u001b[0m \u001b[0mSEM_params\u001b[0m\u001b[0;34m,\u001b[0m \u001b[0mPM_params\u001b[0m\u001b[0;34m,\u001b[0m \u001b[0mEM_threshold\u001b[0m\u001b[0;34m)\u001b[0m\u001b[0;34m:\u001b[0m\u001b[0;34m\u001b[0m\u001b[0;34m\u001b[0m\u001b[0m\n\u001b[1;32m      4\u001b[0m \u001b[0;34m\u001b[0m\u001b[0m\n\u001b[0;32m----> 5\u001b[0;31m         \u001b[0mSEM\u001b[0m\u001b[0;34m.\u001b[0m\u001b[0m__init__\u001b[0m\u001b[0;34m(\u001b[0m\u001b[0mself\u001b[0m\u001b[0;34m,\u001b[0m \u001b[0mparam_dict\u001b[0m\u001b[0;34m=\u001b[0m\u001b[0mSEM_params\u001b[0m\u001b[0;34m)\u001b[0m\u001b[0;34m\u001b[0m\u001b[0;34m\u001b[0m\u001b[0m\n\u001b[0m\u001b[1;32m      6\u001b[0m         \u001b[0mprimacy_model\u001b[0m\u001b[0;34m.\u001b[0m\u001b[0m__init__\u001b[0m\u001b[0;34m(\u001b[0m\u001b[0mself\u001b[0m\u001b[0;34m,\u001b[0m \u001b[0mparams_dict\u001b[0m\u001b[0;34m=\u001b[0m\u001b[0mPM_params\u001b[0m\u001b[0;34m)\u001b[0m\u001b[0;34m\u001b[0m\u001b[0;34m\u001b[0m\u001b[0m\n\u001b[1;32m      7\u001b[0m         \u001b[0manalyze_errors\u001b[0m\u001b[0;34m.\u001b[0m\u001b[0m__init__\u001b[0m\u001b[0;34m(\u001b[0m\u001b[0mself\u001b[0m\u001b[0;34m,\u001b[0m \u001b[0mPM_params\u001b[0m\u001b[0;34m[\u001b[0m\u001b[0;34m'list_length'\u001b[0m\u001b[0;34m]\u001b[0m\u001b[0;34m,\u001b[0m \u001b[0mSEM_params\u001b[0m\u001b[0;34m[\u001b[0m\u001b[0;34m'omission_val'\u001b[0m\u001b[0;34m]\u001b[0m\u001b[0;34m)\u001b[0m\u001b[0;34m\u001b[0m\u001b[0;34m\u001b[0m\u001b[0m\n",
      "\u001b[0;32m~/isr/isr_model_review/isr_psych_models.py\u001b[0m in \u001b[0;36m__init__\u001b[0;34m(self, param_dict)\u001b[0m\n\u001b[1;32m     88\u001b[0m         '''\n\u001b[1;32m     89\u001b[0m \u001b[0;34m\u001b[0m\u001b[0m\n\u001b[0;32m---> 90\u001b[0;31m         \u001b[0mself\u001b[0m\u001b[0;34m.\u001b[0m\u001b[0mlist_length\u001b[0m \u001b[0;34m=\u001b[0m \u001b[0mparam_dict\u001b[0m\u001b[0;34m[\u001b[0m\u001b[0;34m'list_length'\u001b[0m\u001b[0;34m]\u001b[0m\u001b[0;34m\u001b[0m\u001b[0;34m\u001b[0m\u001b[0m\n\u001b[0m\u001b[1;32m     91\u001b[0m         \u001b[0mself\u001b[0m\u001b[0;34m.\u001b[0m\u001b[0mgroup_size\u001b[0m \u001b[0;34m=\u001b[0m \u001b[0mself\u001b[0m\u001b[0;34m.\u001b[0m\u001b[0mlist_length\u001b[0m\u001b[0;34m\u001b[0m\u001b[0;34m\u001b[0m\u001b[0m\n\u001b[1;32m     92\u001b[0m         \u001b[0mself\u001b[0m\u001b[0;34m.\u001b[0m\u001b[0ms0\u001b[0m \u001b[0;34m=\u001b[0m \u001b[0mparam_dict\u001b[0m\u001b[0;34m[\u001b[0m\u001b[0;34m's0'\u001b[0m\u001b[0;34m]\u001b[0m\u001b[0;34m\u001b[0m\u001b[0;34m\u001b[0m\u001b[0m\n",
      "\u001b[0;31mKeyError\u001b[0m: 'list_length'"
     ]
    }
   ],
   "source": [
    "EM_threshold_SEM_only = 1e7\n",
    "SEM_only = ordinal_positional_model(params_SEM, params_dict_PM, EM_threshold=EM_threshold_SEM_only)\n",
    "SEM_only.positional_overlap(list_length=5, plot=True)"
   ]
  },
  {
   "cell_type": "code",
   "execution_count": 7,
   "metadata": {},
   "outputs": [
    {
     "ename": "NameError",
     "evalue": "name 'SEM_only' is not defined",
     "output_type": "error",
     "traceback": [
      "\u001b[0;31m---------------------------------------------------------------------------\u001b[0m",
      "\u001b[0;31mNameError\u001b[0m                                 Traceback (most recent call last)",
      "\u001b[0;32m/tmp/ipykernel_1051713/1099736052.py\u001b[0m in \u001b[0;36m<module>\u001b[0;34m\u001b[0m\n\u001b[1;32m      1\u001b[0m \u001b[0mnum_trials\u001b[0m \u001b[0;34m=\u001b[0m \u001b[0;36m1000\u001b[0m\u001b[0;34m\u001b[0m\u001b[0;34m\u001b[0m\u001b[0m\n\u001b[0;32m----> 2\u001b[0;31m \u001b[0mSEM_only\u001b[0m\u001b[0;34m.\u001b[0m\u001b[0msimulate_lists_SEM_PM\u001b[0m\u001b[0;34m(\u001b[0m\u001b[0mnum_trials\u001b[0m\u001b[0;34m)\u001b[0m\u001b[0;34m\u001b[0m\u001b[0;34m\u001b[0m\u001b[0m\n\u001b[0m\u001b[1;32m      3\u001b[0m \u001b[0mSEM_only\u001b[0m\u001b[0;34m.\u001b[0m\u001b[0mppr\u001b[0m\u001b[0;34m\u001b[0m\u001b[0;34m\u001b[0m\u001b[0m\n",
      "\u001b[0;31mNameError\u001b[0m: name 'SEM_only' is not defined"
     ]
    }
   ],
   "source": [
    "num_trials = 1000\n",
    "SEM_only.simulate_lists_SEM_PM(num_trials)\n",
    "SEM_only.ppr"
   ]
  },
  {
   "cell_type": "code",
   "execution_count": 35,
   "metadata": {},
   "outputs": [
    {
     "name": "stdout",
     "output_type": "stream",
     "text": [
      "0.14299167663699852\n",
      "0.0\n",
      "0.8570083233630014\n"
     ]
    }
   ],
   "source": [
    "print(np.mean(SEM_only.within_list_errors/(SEM_only.frac_errors)))\n",
    "print(np.mean(SEM_only.intrusions/(SEM_only.frac_errors)))\n",
    "print(np.mean(SEM_only.omissions/(SEM_only.frac_errors)))"
   ]
  },
  {
   "cell_type": "code",
   "execution_count": 26,
   "metadata": {},
   "outputs": [
    {
     "data": {
      "image/png": "[encoded data removed]",
      "text/plain": [
       "<Figure size 720x432 with 1 Axes>"
      ]
     },
     "metadata": {
      "needs_background": "light"
     },
     "output_type": "display_data"
    }
   ],
   "source": [
    "# manipulate inter-trial interval lengths\n",
    "C_i_arr = [0]\n",
    "num_trials = 1000\n",
    "EM_threshold_SEM_only = 1e6\n",
    "EM_threshold_PM_SEM = 2.5\n",
    "for c_i in C_i_arr:\n",
    "    params_SEM['C_i'] = c_i\n",
    "    SEM_only = ordinal_positional_model(params_SEM, params_dict_PM, EM_threshold=EM_threshold_SEM_only)\n",
    "    #PM_SEM = ordinal_positional_model(params_SEM, params_dict_PM, EM_threshold=EM_threshold_PM_SEM)\n",
    "    SEM_only.simulate_lists_SEM_PM(num_trials)\n",
    "    #PM_SEM.simulate_lists_SEM_PM(num_trials)\n",
    "    #print(PM_SEM.output_protrusions)\n",
    "    plot_errors(SEM_only, f\"Inter-trial interval {c_i} (SEM)\")\n",
    "    #plot_errors(PM_SEM, f\"Inter-trial interval {c_i} (PM+SEM)\")"
   ]
  },
  {
   "cell_type": "code",
   "execution_count": 27,
   "metadata": {},
   "outputs": [
    {
     "data": {
      "text/plain": [
       "array([  6.,  31.,  51., 111., 110., 183.])"
      ]
     },
     "execution_count": 27,
     "metadata": {},
     "output_type": "execute_result"
    }
   ],
   "source": [
    "SEM_only.immediate_intrusions"
   ]
  },
  {
   "cell_type": "code",
   "execution_count": 4,
   "metadata": {},
   "outputs": [
    {
     "name": "stdout",
     "output_type": "stream",
     "text": [
      "Fraction of total errors: [ 16.  59. 185. 339. 392. 222.]\n",
      "Immediate intrusions: [ 12.  26.  79. 111. 105. 189.]\n",
      "Output protrusions: [ 12.  25.  55.  59.  65. 164.]\n",
      "Within list errors: [  4.  33. 105. 219. 247.  21.]\n",
      "Omissions: [ 0.  0.  0.  5. 35. 10.]\n"
     ]
    }
   ],
   "source": [
    "print(f\"Fraction of total errors: {SEM_only.frac_errors}\")\n",
    "print(f\"Immediate intrusions: {SEM_only.immediate_intrusions}\")\n",
    "print(f\"Output protrusions: {SEM_only.output_protrusions}\")\n",
    "print(f\"Within list errors: {SEM_only.within_list_errors}\")\n",
    "print(f\"Omissions: {SEM_only.omissions}\")"
   ]
  },
  {
   "cell_type": "code",
   "execution_count": 6,
   "metadata": {},
   "outputs": [
    {
     "name": "stdout",
     "output_type": "stream",
     "text": [
      "Fraction of total errors: [ 68. 150. 189. 245. 286. 170.]\n",
      "Intrusions: [ 0.  0.  1.  0.  7. 21.]\n",
      "Output protrusions: [ 0.  0.  0.  0.  5. 21.]\n",
      "Within list errors: [ 68. 150. 188. 245. 279. 149.]\n",
      "Omissions: [0. 0. 0. 0. 0. 0.]\n"
     ]
    }
   ],
   "source": [
    "print(f\"Fraction of total errors: {PM_SEM.frac_errors}\")\n",
    "print(f\"Intrusions: {PM_SEM.immediate_intrusions}\")\n",
    "print(f\"Output protrusions: {PM_SEM.output_protrusions}\")\n",
    "print(f\"Within list errors: {PM_SEM.within_list_errors}\")\n",
    "print(f\"Omissions: {PM_SEM.omissions}\")"
   ]
  },
  {
   "cell_type": "code",
   "execution_count": 11,
   "metadata": {},
   "outputs": [
    {
     "data": {
      "image/png": "[encoded data removed]",
      "text/plain": [
       "<Figure size 432x288 with 1 Axes>"
      ]
     },
     "metadata": {
      "needs_background": "light"
     },
     "output_type": "display_data"
    },
    {
     "data": {
      "image/png": "[encoded data removed]",
      "text/plain": [
       "<Figure size 432x288 with 1 Axes>"
      ]
     },
     "metadata": {
      "needs_background": "light"
     },
     "output_type": "display_data"
    },
    {
     "data": {
      "image/png": "[encoded data removed]",
      "text/plain": [
       "<Figure size 432x288 with 1 Axes>"
      ]
     },
     "metadata": {
      "needs_background": "light"
     },
     "output_type": "display_data"
    },
    {
     "data": {
      "image/png": "[encoded data removed]",
      "text/plain": [
       "<Figure size 432x288 with 1 Axes>"
      ]
     },
     "metadata": {
      "needs_background": "light"
     },
     "output_type": "display_data"
    }
   ],
   "source": [
    "for C_i, perf_odm, perf_sem in zip(C_i_arr, perf_c_i_odm, perf_c_i_SEM):\n",
    "    \n",
    "    mean_perf_sem = np.round(np.mean(perf_sem),2)\n",
    "    mean_perf_odm = np.round(np.mean(perf_odm),2)\n",
    "    plt.bar(np.arange(1,7,1), perf_sem, width=0.25, label=f'SEM Avg Frac Err: {mean_perf_sem}')\n",
    "    plt.bar(np.arange(1.25,7.25,1), perf_odm, width=0.25, label=f\"PM+SEM Avg Frac Err: {mean_perf_odm}\")\n",
    "    plt.legend()\n",
    "    plt.ylim(0,.5)\n",
    "    plt.title(f'Inter-trial interval {C_i}', fontsize=14)\n",
    "    plt.show()"
   ]
  },
  {
   "cell_type": "markdown",
   "metadata": {},
   "source": [
    "<h3> Short inter-trial interval </h3> \n",
    "Fraction of errors across serial positions: 0.06, 0.14, 0.2, 0.26, 0.32, 0.28 \n",
    "\n",
    "Number of immediate intrusions: 898  \n",
    "\n",
    "Number of protrusions: 193 \n",
    "\n",
    "Number of protrusions expected by chance: 149.6\n",
    "\n",
    "\n",
    "\n",
    "\n",
    "<h3> Long inter-trial interval </h3> \n",
    "\n",
    "Fraction of errors across serial positions: 0.06, 0.14, 0.19, 0.24, 0.31, 0.26 \n",
    "\n",
    "Number of immediate intrusions: 70 \n",
    "\n",
    "Number of protrusions: 11 \n",
    "\n",
    "Number of protrusions expected by chance: 11.6\n",
    "\n",
    "\n",
    "\n",
    "\n",
    "\n"
   ]
  }
 ],
 "metadata": {
  "kernelspec": {
   "display_name": "Python 3.8.10 64-bit",
   "language": "python",
   "name": "python3"
  },
  "language_info": {
   "codemirror_mode": {
    "name": "ipython",
    "version": 3
   },
   "file_extension": ".py",
   "mimetype": "text/x-python",
   "name": "python",
   "nbconvert_exporter": "python",
   "pygments_lexer": "ipython3",
   "version": "3.8.10"
  },
  "orig_nbformat": 4,
  "vscode": {
   "interpreter": {
    "hash": "e7370f93d1d0cde622a1f8e1c04877d8463912d04d973331ad4851f04de6915a"
   }
  }
 },
 "nbformat": 4,
 "nbformat_minor": 2
}
