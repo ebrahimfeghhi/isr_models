{
 "cells": [
  {
   "cell_type": "code",
   "execution_count": 1,
   "metadata": {},
   "outputs": [],
   "source": [
    "import torch\n",
    "from torch.utils.data import DataLoader\n",
    "import sys\n",
    "import numpy as np\n",
    "sys.path.append('/home3/ebrahim/isr/isr_model_review/BP06/')\n",
    "from utils import cosine_sim\n",
    "from datasets import OneHotLetters, OneHotLetters_test\n",
    "from run_test_trials_EM import run_test_trials_EM\n",
    "from simulation_one_EM import simulation_one_EM\n",
    "from RNNcell import RNN_one_layer_EM\n",
    "import wandb\n",
    "device = torch.device(\"cpu\")\n",
    "import numpy as np\n",
    "from matplotlib import pyplot as plt\n",
    "import seaborn as sns\n",
    "import statsmodels\n",
    "import pandas as pd\n",
    "from statsmodels.stats.anova import AnovaRM\n",
    "import scipy.stats as stats\n",
    "from scipy.stats import ttest_rel\n",
    "import pickle\n",
    "%matplotlib inline"
   ]
  },
  {
   "cell_type": "code",
   "execution_count": 2,
   "metadata": {},
   "outputs": [],
   "source": [
    "class test_BP06_EM():\n",
    "\n",
    "    def __init__(self, base):\n",
    "        \n",
    "        self.base = base\n",
    "\n",
    "    def load_model(self, wandbPath, modelPath):\n",
    "\n",
    "        api = wandb.Api()\n",
    "        run = api.run(wandbPath)\n",
    "        self.config = run.config\n",
    "\n",
    "        # modify paths\n",
    "        self.config['test_path_lists'] = self.base + self.config['test_path_lists']\n",
    "        self.config['test_path_set'] = self.base + self.config['test_path_set']\n",
    "        self.config['test_path_protrusions'] = self.base + self.config['test_path_protrusions']\n",
    "\n",
    "        saved_info = torch.load(self.base + 'saved_models/' +  modelPath  + '/model_human.pth')\n",
    "        \n",
    "        self.model = RNN_one_layer_EM(self.config['input_size'], self.config['hs'], self.config['output_size'], \n",
    "                                      noise_std=self.config['noise_std'], feedback_bool=True, bias=False, \n",
    "                                      alpha_s=self.config['alpha_s'], storage_capacity=self.config['storage_capacity'])\n",
    "        \n",
    "        self.model.load_state_dict(saved_info['model_state_dict'])\n",
    "        self.optimizer = torch.optim.Adam(self.model.parameters(), lr=self.config['lr'])\n",
    "        self.optimizer.load_state_dict(saved_info['optimizer_state_dict'])\n",
    "        \n",
    "    def run_model(self, ll):\n",
    "\n",
    "        rtt = run_test_trials_EM(self.model, self.optimizer, 0.5)\n",
    "        rtt.run_model(device, ll, self.config, base='')\n",
    "        self.h = rtt.h_stacked.numpy()\n",
    "        self.y_recall_probs = rtt.y_hat_all\n",
    "        self.y_recall = rtt.y_hat_recall\n",
    "        self.cache = rtt.cache\n",
    "        \n",
    "    def run_simulation_one(self, ll):\n",
    "\n",
    "        self.sim_one = simulation_one_EM(self.model, self.optimizer, \\\n",
    "                                         self.config['max_length'], self.config['h0_init_val'], \\\n",
    "                                         self.config['test_list_length'])\n",
    "\n",
    "        self.sim_one.run_model(device, ll, self.config)\n",
    "        \n",
    "        self.hidden_activity = self.sim_one.h_stacked\n",
    "        self.y_recall_probs = self.sim_one.y_hat_all\n"
   ]
  },
  {
   "cell_type": "code",
   "execution_count": 3,
   "metadata": {},
   "outputs": [],
   "source": [
    "base = '/home3/ebrahim/isr/isr_model_review/BP06/'\n",
    "modelPATH_arr = ['EM_opt_Adam_trial_run_dt_True']\n",
    "wandB_arr = [\"ebrahimfeghhi/isr_model_review-BP06/i9tj6scg\"]\n",
    "BP06_mech = test_BP06_EM(base)\n",
    "BP06_mech.load_model(wandB_arr[0], modelPATH_arr[0])\n",
    "BP06_mech.run_model(6)"
   ]
  },
  {
   "cell_type": "code",
   "execution_count": 8,
   "metadata": {},
   "outputs": [
    {
     "name": "stderr",
     "output_type": "stream",
     "text": [
      "<ipython-input-8-d2a0f3924f96>:1: VisibleDeprecationWarning: Creating an ndarray from ragged nested sequences (which is a list-or-tuple of lists-or-tuples-or ndarrays with different lengths or shapes) is deprecated. If you meant to do this, you must specify 'dtype=object' when creating the ndarray.\n",
      "  np.asarray(BP06_mech.cache['EM_gate']).ravel()[-1]\n"
     ]
    },
    {
     "data": {
      "text/plain": [
       "<generator object run_test_trials_EM.run_model.<locals>.<genexpr> at 0x7ff4faf86900>"
      ]
     },
     "execution_count": 8,
     "metadata": {},
     "output_type": "execute_result"
    }
   ],
   "source": [
    "np.asarray(BP06_mech.cache['EM_gate']).ravel()[-1]"
   ]
  },
  {
   "cell_type": "code",
   "execution_count": null,
   "metadata": {},
   "outputs": [],
   "source": [
    "BP06_mech.sim_one.figure_seven_plot(wandb, savePlot=False, displayMode=True)"
   ]
  },
  {
   "cell_type": "code",
   "execution_count": null,
   "metadata": {},
   "outputs": [],
   "source": [
    "def a():\n",
    "    return 5, 3"
   ]
  },
  {
   "cell_type": "code",
   "execution_count": 12,
   "metadata": {},
   "outputs": [
    {
     "name": "stdout",
     "output_type": "stream",
     "text": [
      "hi\n",
      "bye\n"
     ]
    }
   ],
   "source": [
    "a = {'hi': 5, 'bye':10}\n",
    "for item in a.keys():\n",
    "    print(item)"
   ]
  },
  {
   "cell_type": "code",
   "execution_count": null,
   "metadata": {},
   "outputs": [],
   "source": []
  }
 ],
 "metadata": {
  "kernelspec": {
   "display_name": "Python 3",
   "language": "python",
   "name": "python3"
  },
  "language_info": {
   "codemirror_mode": {
    "name": "ipython",
    "version": 3
   },
   "file_extension": ".py",
   "mimetype": "text/x-python",
   "name": "python",
   "nbconvert_exporter": "python",
   "pygments_lexer": "ipython3",
   "version": "3.8.10"
  },
  "orig_nbformat": 4
 },
 "nbformat": 4,
 "nbformat_minor": 2
}
