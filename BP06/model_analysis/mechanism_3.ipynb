{
 "cells": [
  {
   "cell_type": "code",
   "execution_count": 1,
   "metadata": {},
   "outputs": [],
   "source": [
    "import torch\n",
    "from torch.utils.data import DataLoader\n",
    "import sys\n",
    "import numpy as np\n",
    "sys.path.append('/home3/ebrahim/isr/isr_model_review/BP06/')\n",
    "from utils import cosine_sim\n",
    "from datasets import OneHotLetters, OneHotLetters_test\n",
    "from run_test_trials import run_test_trials\n",
    "from simulation_one import simulation_one\n",
    "from RNNcell import RNN_one_layer\n",
    "import wandb\n",
    "device = torch.device(\"cpu\")\n",
    "import numpy as np\n",
    "from matplotlib import pyplot as plt\n",
    "import seaborn as sns\n",
    "import statsmodels\n",
    "import pandas as pd\n",
    "from statsmodels.stats.anova import AnovaRM\n",
    "import scipy.stats as stats\n",
    "from scipy.stats import ttest_rel\n",
    "import pickle\n",
    "%matplotlib inline"
   ]
  },
  {
   "cell_type": "code",
   "execution_count": 53,
   "metadata": {},
   "outputs": [],
   "source": [
    "def softmax(probs):\n",
    "    return np.exp(probs)/np.sum(np.exp(probs+1e-6))"
   ]
  },
  {
   "cell_type": "code",
   "execution_count": 38,
   "metadata": {},
   "outputs": [],
   "source": [
    "class test_BP06():\n",
    "\n",
    "    def __init__(self, base):\n",
    "        \n",
    "        self.base = base\n",
    "\n",
    "    def load_model(self, wandbPath, modelPath):\n",
    "\n",
    "        api = wandb.Api()\n",
    "        run = api.run(wandbPath)\n",
    "        self.config = run.config\n",
    "\n",
    "        # modify paths\n",
    "        self.config['test_path_lists'] = self.base + self.config['test_path_lists']\n",
    "        self.config['test_path_set'] = self.base + self.config['test_path_set']\n",
    "        self.config['test_path_protrusions'] = self.base + self.config['test_path_protrusions']\n",
    "\n",
    "        num_letters = self.config['num_letters']\n",
    "\n",
    "        saved_info = torch.load(self.base + 'saved_models/' +  modelPath  + '/model_human.pth')\n",
    "        self.model = RNN_one_layer(self.config['input_size'], self.config['hs'], self.config['output_size'], noise_std=self.config['noise_std'],\n",
    "                                feedback_bool=True, bias=False, alpha_s=self.config['alpha_s'])\n",
    "        self.model.load_state_dict(saved_info['model_state_dict'])\n",
    "        self.optimizer = torch.optim.Adam(self.model.parameters(), lr=self.config['lr'])\n",
    "        self.optimizer.load_state_dict(saved_info['optimizer_state_dict'])\n",
    "        \n",
    "    def obtain_model_weights(self):\n",
    "        \n",
    "        for name, param in self.model.named_parameters():\n",
    "            if name == 'h2o.weight':\n",
    "                self.h2o = param.detach().numpy()\n",
    "            if name == 'RNN.o2h.weight':\n",
    "                self.o2h = param.detach().numpy()\n",
    "            if name == 'RNN.h2h.weight':\n",
    "                self.h2h = param.detach().numpy()\n",
    "            if name == 'RNN.i2h.weight':\n",
    "                self.i2h = param.detach().numpy()\n",
    "\n",
    "    def run_model(self, ll):\n",
    "\n",
    "        rtt = run_test_trials(self.model, self.optimizer, 0.5)\n",
    "        rtt.run_model(device, ll, self.config, self.base)\n",
    "        X_test = rtt.X_test_all\n",
    "        self.h = rtt.h_stacked.numpy()\n",
    "        self.y_recall_probs = rtt.y_hat_all\n",
    "        self.y_recall = rtt.y_hat_recall\n",
    "\n",
    "    def run_simulation_one(self, ll):\n",
    "\n",
    "        self.sim_one = simulation_one(self.model, self.optimizer, self.config['max_length'], self.config['h0_init_val'],\n",
    "                self.config['test_list_length'])\n",
    "\n",
    "        self.sim_one.run_model(device, ll, self.config)\n",
    "        \n",
    "        self.hidden_activity = self.sim_one.h_stacked\n",
    "        self.y_recall_probs = self.sim_one.y_hat_all\n",
    "        \n",
    "    def pos_sim_across_trials(self, pos_ref, pos_range):\n",
    "\n",
    "        '''\n",
    "        Computes the similarity of hidden states both within and across trials\n",
    "        as a function of their positional similarity. Similarity is computed between\n",
    "        a reference position and all other positions. This computation is done for every possible\n",
    "        pair of trials, so it takes quite awhile.\n",
    "\n",
    "        @param ref_pos: reference position, if None function assumes position has been selected before hand\n",
    "        and expects a 2D array instead of a 3D array for h\n",
    "        @param pos_range: range of positions to compute similarity with\n",
    "        '''\n",
    "\n",
    "        # reference position \n",
    "        h_pos_ref = self.h[:, pos_ref]\n",
    "\n",
    "        self.similarity_values_dict = {}\n",
    "        for i in range(pos_range): \n",
    "\n",
    "            self.similarity_values_dict[i] = []\n",
    "\n",
    "            # comparision position \n",
    "            h_pos_comp = self.h[:, i]\n",
    "\n",
    "            for j, trial in enumerate(h_pos_ref):\n",
    "                for k, trial2 in enumerate(h_pos_comp):\n",
    "\n",
    "                    # only compute values above the diagonal to speed up computation \n",
    "                    if k < j: \n",
    "                        continue \n",
    "\n",
    "                    # don't compute similarity between the same vectors \n",
    "                    if i == pos_ref:\n",
    "                        if k == j:\n",
    "                            continue\n",
    "                    \n",
    "                    self.similarity_values_dict[i].append(cosine_sim(trial, trial2))\n",
    "\n",
    "\n",
    "    def plot_mean_std_sim_values(self, title):\n",
    "\n",
    "        '''\n",
    "        Plots output of pos_sim_across_trials\n",
    "        '''\n",
    "\n",
    "        mean_sim_values_dict = []\n",
    "        std_sim_values_dict = []\n",
    "\n",
    "        for v in self.sim_values.values():\n",
    "            mean_sim_values_dict.append(np.mean(v))\n",
    "            std_sim_values_dict.append(np.std(v))\n",
    "\n",
    "        sns.set_theme()\n",
    "        plt.errorbar(x=self.sim_values.keys(), y=mean_sim_values_dict, yerr=std_sim_values_dict)\n",
    "        plt.title(title, fontsize=18)\n",
    "        plt.ylabel(\"Cosine similarity\", fontsize=16)\n",
    "        plt.xlabel(\"Encoding position\", fontsize=16)\n",
    "\n",
    "    def compute_sim_lag(h, lag_values):\n",
    "\n",
    "        '''\n",
    "        Computes similarity across trials at various lags\n",
    "        @param h: hidden activity matrix\n",
    "        @param lag_values: lag_values for trials, list of ints, negative values indicate\n",
    "        past trials, positive values indicate future trials \n",
    "        '''\n",
    "\n",
    "        cosine_sim_dict_lag = {}\n",
    "\n",
    "        # initialize dictionary to store cosine sim values \n",
    "        for lag in lag_values:\n",
    "            \n",
    "            cosine_sim_dict_lag[lag] = []\n",
    "\n",
    "        for i, trial in enumerate(h):\n",
    "\n",
    "            # if there are not enough trials before or after to compute lag similarity, continue \n",
    "            if (i + np.min(lag_values) < 0) or (i+np.max(lag_values) >= h.shape[0]):\n",
    "                continue\n",
    "\n",
    "            for lag in lag_values:\n",
    "                h_lag = h[i+lag]\n",
    "\n",
    "                cos_sim_trial = 0\n",
    "\n",
    "                for h1, h2 in zip(trial, h_lag):\n",
    "\n",
    "                    cos_sim_trial += cosine_sim(h1,h2)\n",
    "                \n",
    "                cosine_sim_dict_lag[lag].append(cos_sim_trial/trial.shape[0])\n",
    "\n",
    "        return cosine_sim_dict_lag\n",
    "\n",
    "\n",
    "    def plot_lag_similarity_values(cosine_sim_dict_lag, title, color, label, marker,\n",
    "    xlabel=None):\n",
    "\n",
    "        '''\n",
    "        Plots output of compute_sim_lag and end_start_sim_lag\n",
    "        '''\n",
    "\n",
    "        mean_sim_values_dict = []\n",
    "        std_sim_values_dict = []\n",
    "\n",
    "        for v in cosine_sim_dict_lag.values():\n",
    "            mean_sim_values_dict.append(np.mean(v))\n",
    "            std_sim_values_dict.append(np.std(v))\n",
    "\n",
    "        sns.set_theme()\n",
    "        plt.errorbar(x=cosine_sim_dict_lag.keys(), y=mean_sim_values_dict, yerr=std_sim_values_dict, \n",
    "        color=color, label=label, marker=marker)\n",
    "        plt.title(title, fontsize=18)\n",
    "        plt.xticks(list(cosine_sim_dict_lag.keys()))\n",
    "        plt.ylabel(\"Cosine similarity\", fontsize=16)\n",
    "        plt.xlabel(xlabel, fontsize=16)\n",
    "        plt.legend()\n",
    "\n",
    "    def compute_intrusion_count(self):\n",
    "\n",
    "        '''\n",
    "        Compares ratio of immediate intrusion to non-immediate intrusions. \n",
    "        '''\n",
    "\n",
    "        rtt = run_test_trials(self.model, self.optimizer, 0.5)\n",
    "        rtt.run_model(device, 6, self.config, base)\n",
    "        y_test = rtt.y_test_all\n",
    "        y_hat_gt = rtt.y_hat_all\n",
    "        X_test = rtt.X_test_all\n",
    "        h_stacked = rtt.h_stacked\n",
    "\n",
    "        y_hat = rtt.y_hat_recall\n",
    "        y_test = rtt.y_test_recall\n",
    "\n",
    "        non_immediate_intrusion_count = 0 \n",
    "        immediate_intrusion_count = 0 \n",
    "\n",
    "        intrusion_letters = []\n",
    "\n",
    "        for i in range(y_hat.shape[0]):\n",
    "\n",
    "            if i == 0:\n",
    "                continue\n",
    "            \n",
    "            y_hat_prev = y_hat[i-1]\n",
    "            y_hat_current = y_hat[i]\n",
    "            y_test_current = y_test[i]\n",
    "\n",
    "            for letter in y_hat_current:\n",
    "                \n",
    "                # if letter was not in the presented list\n",
    "                if letter not in y_test_current:\n",
    "                    # if letter was in the previously recalled list,\n",
    "                    # increment immediate intrusion count\n",
    "                    if letter in y_hat_prev:\n",
    "                        immediate_intrusion_count += 1\n",
    "                    # otherwise, increment non_immediate_intrusion_count \n",
    "                    else:\n",
    "                        non_immediate_intrusion_count += 1\n",
    "                    intrusion_letters.append(int(letter.numpy()))\n",
    "\n",
    "        return immediate_intrusion_count, non_immediate_intrusion_count, intrusion_letters\n",
    "\n",
    "    "
   ]
  },
  {
   "cell_type": "code",
   "execution_count": 39,
   "metadata": {},
   "outputs": [],
   "source": [
    "# information for loading model\n",
    "base = '/home3/ebrahim/isr/isr_model_review/BP06/'\n",
    "modelPATH_arr = ['stateful_True_noise_0.0_opt_Adam_no_grad_num_letters_26_nl_test_26_True_']\n",
    "wandB_arr = [\"ehrdds6f\", \"ed8798k6\", \"4ko6rcqt\", \"9s6t7l9o\", \"iwxesev8\"]"
   ]
  },
  {
   "cell_type": "code",
   "execution_count": 40,
   "metadata": {},
   "outputs": [],
   "source": [
    "BP06_mech = test_BP06(base)\n",
    "BP06_mech.load_model('/ebrahimfeghhi/BP06/' + wandB_arr[0], modelPATH_arr[0] + '1', )\n",
    "BP06_mech.run_simulation_one(6)"
   ]
  },
  {
   "cell_type": "code",
   "execution_count": 41,
   "metadata": {},
   "outputs": [],
   "source": [
    "BP06_mech.obtain_model_weights()\n",
    "h2o = BP06_mech.h2o"
   ]
  },
  {
   "cell_type": "code",
   "execution_count": 42,
   "metadata": {},
   "outputs": [
    {
     "data": {
      "image/png": "[encoded data removed]",
      "text/plain": [
       "<Figure size 864x576 with 6 Axes>"
      ]
     },
     "metadata": {
      "needs_background": "light"
     },
     "output_type": "display_data"
    }
   ],
   "source": [
    "BP06_mech.sim_one.transpositions_test.shape\n",
    "BP06_mech.sim_one.figure_seven_plot(wandb=None, savePlot=False, displayMode=True)"
   ]
  },
  {
   "cell_type": "code",
   "execution_count": 43,
   "metadata": {},
   "outputs": [],
   "source": [
    "td = BP06_mech.config['delay_start'] + BP06_mech.config['delay_middle']"
   ]
  },
  {
   "cell_type": "code",
   "execution_count": 70,
   "metadata": {},
   "outputs": [],
   "source": [
    "h_arr_recall = BP06_mech.hidden_activity[:, td+7:td+13, :].numpy()\n",
    "y_arr_recall = BP06_mech.y_recall_probs[:, td+6:td+12, :].numpy()\n",
    "y_arr_recall_pre_softmax = h_arr_recall@h2o.T"
   ]
  },
  {
   "cell_type": "code",
   "execution_count": 73,
   "metadata": {},
   "outputs": [
    {
     "name": "stdout",
     "output_type": "stream",
     "text": [
      "[6.425163, 6.891025, 6.5014586, 6.6028085, 7.0319552, 6.188049]\n"
     ]
    }
   ],
   "source": [
    "mean_activity_serial_positions = []\n",
    "for i in range(6):\n",
    "    mean_activity_serial_positions.append(np.sqrt(np.mean(y_arr_recall_pre_softmax[i]**2)))\n",
    "\n",
    "print(mean_activity_serial_positions)"
   ]
  },
  {
   "cell_type": "code",
   "execution_count": 39,
   "metadata": {},
   "outputs": [
    {
     "data": {
      "image/png": "[encoded data removed]",
      "text/plain": [
       "<Figure size 432x288 with 1 Axes>"
      ]
     },
     "metadata": {
      "needs_background": "light"
     },
     "output_type": "display_data"
    },
    {
     "name": "stdout",
     "output_type": "stream",
     "text": [
      "0.86933076\n"
     ]
    },
    {
     "data": {
      "image/png": "[encoded data removed]",
      "text/plain": [
       "<Figure size 432x288 with 1 Axes>"
      ]
     },
     "metadata": {
      "needs_background": "light"
     },
     "output_type": "display_data"
    },
    {
     "name": "stdout",
     "output_type": "stream",
     "text": [
      "0.8483917\n"
     ]
    },
    {
     "data": {
      "image/png": "[encoded data removed]",
      "text/plain": [
       "<Figure size 432x288 with 1 Axes>"
      ]
     },
     "metadata": {
      "needs_background": "light"
     },
     "output_type": "display_data"
    },
    {
     "name": "stdout",
     "output_type": "stream",
     "text": [
      "0.83839077\n"
     ]
    },
    {
     "data": {
      "image/png": "[encoded data removed]",
      "text/plain": [
       "<Figure size 432x288 with 1 Axes>"
      ]
     },
     "metadata": {
      "needs_background": "light"
     },
     "output_type": "display_data"
    },
    {
     "name": "stdout",
     "output_type": "stream",
     "text": [
      "0.8417789\n"
     ]
    },
    {
     "data": {
      "image/png": "[encoded data removed]",
      "text/plain": [
       "<Figure size 432x288 with 1 Axes>"
      ]
     },
     "metadata": {
      "needs_background": "light"
     },
     "output_type": "display_data"
    },
    {
     "name": "stdout",
     "output_type": "stream",
     "text": [
      "0.8224632\n"
     ]
    },
    {
     "data": {
      "image/png": "[encoded data removed]",
      "text/plain": [
       "<Figure size 432x288 with 1 Axes>"
      ]
     },
     "metadata": {
      "needs_background": "light"
     },
     "output_type": "display_data"
    },
    {
     "name": "stdout",
     "output_type": "stream",
     "text": [
      "0.8915793\n"
     ]
    }
   ],
   "source": [
    "softmax_probs = BP06_pos.y_recall_probs[:, td+6:td+(12), :].numpy()\n",
    "max_softmax_prob_per_timestep = np.max(softmax_probs, axis=2)\n",
    "for recall_time in range(6):\n",
    "    plt.hist(max_softmax_prob_per_timestep[:, recall_time].ravel())\n",
    "    plt.show()\n",
    "    print(np.mean(max_softmax_prob_per_timestep[:, recall_time]))\n"
   ]
  },
  {
   "cell_type": "code",
   "execution_count": 14,
   "metadata": {},
   "outputs": [],
   "source": [
    "def rnn_step(h, y, i, batch_idx, h_prev_tensor):\n",
    "    \n",
    "    h_new = torch.sigmoid(h@h2h.T + y@o2h.T + i@i2h.T)\n",
    "    h_EM = EM_retrieval(h, h_prev_tensor, batch_idx)\n",
    "    o_new = torch.nn.functional.softmax(h_new@h2o.T,dim=0)\n",
    "    \n",
    "    return o_new, h_new"
   ]
  },
  {
   "cell_type": "code",
   "execution_count": 15,
   "metadata": {},
   "outputs": [],
   "source": [
    "def pos_sim_across_trials(h, pos_ref, pos_range):\n",
    "\n",
    "    '''\n",
    "    Computes the similarity of hidden states both within and across trials\n",
    "    as a function of their positional similarity. Similarity is computed between\n",
    "    a reference position and all other positions. This computation is done for every possible\n",
    "    pair of trials, so it takes quite awhile.\n",
    "\n",
    "    @param h: hidden activity matrix \n",
    "    @param ref_pos: reference position, if None function assumes position has been selected before hand\n",
    "    and expects a 2D array instead of a 3D array for h\n",
    "    @param pos_range: range of positions to compute similarity with\n",
    "    '''\n",
    "\n",
    "    # reference position \n",
    "    h_pos_ref = h[:, pos_ref]\n",
    "\n",
    "    similarity_values_dict = {}\n",
    "    for i in range(pos_range): \n",
    "\n",
    "        similarity_values_dict[i] = []\n",
    "\n",
    "        # comparision position \n",
    "        h_pos_comp = h[:, i]\n",
    "\n",
    "        for j, trial in enumerate(h_pos_ref):\n",
    "            for k, trial2 in enumerate(h_pos_comp):\n",
    "\n",
    "                # only compute values above the diagonal to speed up computation \n",
    "                if k < j: \n",
    "                    continue \n",
    "\n",
    "                # don't compute similarity between the same vectors \n",
    "                if i == pos_ref:\n",
    "                    if k == j:\n",
    "                        continue\n",
    "                \n",
    "                similarity_values_dict[i].append(cosine_sim(trial, trial2))\n",
    "\n",
    "    return similarity_values_dict\n",
    "\n",
    "def plot_mean_std_sim_values(sim_values, title):\n",
    "\n",
    "    '''\n",
    "    Plots output of pos_sim_across_trials\n",
    "    '''\n",
    "\n",
    "    mean_sim_values_dict = []\n",
    "    std_sim_values_dict = []\n",
    "\n",
    "    for v in sim_values.values():\n",
    "        mean_sim_values_dict.append(np.mean(v))\n",
    "        std_sim_values_dict.append(np.std(v))\n",
    "\n",
    "    sns.set_theme()\n",
    "    plt.errorbar(x=sim_values.keys(), y=mean_sim_values_dict, yerr=std_sim_values_dict)\n",
    "    plt.title(title, fontsize=18)\n",
    "    plt.ylabel(\"Cosine similarity\", fontsize=16)\n",
    "    plt.xlabel(\"Encoding position\", fontsize=16)\n",
    "\n",
    "def test_EM_retrieval(h1, h2):\n",
    "\n",
    "    '''\n",
    "    Simplified test of EM retrieval.\n",
    "    EM is operationalized as the hidden activity from the previous list.\n",
    "    Cosine similarity is computed between hidden activity at position p in next list\n",
    "    and every hidden activity vector in EM. If argmax of cosine similarity is equal to \n",
    "    p, the retrieved_same_pos count is incremented.\n",
    "    @param h1: hidden activity used for EM\n",
    "    @param h2: hidden activity used for WM\n",
    "    '''\n",
    "\n",
    "    retrieved_same_pos = {0: 0, 1: 0, 2: 0, 3: 0, 4:0, 5:0}\n",
    "\n",
    "    for i in range(h1.shape[0]):\n",
    "\n",
    "        if i == 0:\n",
    "            continue\n",
    "\n",
    "        EM = h1[i-1]\n",
    "        WM = h2[i]\n",
    "\n",
    "        for j in range(WM.shape[0]):\n",
    "            cs_list = []\n",
    "            for k in range(EM.shape[0]):\n",
    "                \n",
    "                cs = cosine_sim(WM[j], EM[k])\n",
    "                cs_list.append(cs)\n",
    "\n",
    "            if np.argmax(cs_list) == j:\n",
    "                retrieved_same_pos[j] += 1\n",
    "\n",
    "    return retrieved_same_pos\n",
    "\n",
    "def compute_sim_lag(h, lag_values):\n",
    "\n",
    "    '''\n",
    "    Computes similarity across trials at various lags\n",
    "    @param h: hidden activity matrix\n",
    "    @param lag_values: lag_values for trials, list of ints, negative values indicate\n",
    "    past trials, positive values indicate future trials \n",
    "    '''\n",
    "\n",
    "    cosine_sim_dict_lag = {}\n",
    "\n",
    "    # initialize dictionary to store cosine sim values \n",
    "    for lag in lag_values:\n",
    "        \n",
    "        cosine_sim_dict_lag[lag] = []\n",
    "\n",
    "    for i, trial in enumerate(h):\n",
    "\n",
    "        # if there are not enough trials before or after to compute lag similarity, continue \n",
    "        if (i + np.min(lag_values) < 0) or (i+np.max(lag_values) >= h.shape[0]):\n",
    "            continue\n",
    "\n",
    "        for lag in lag_values:\n",
    "            h_lag = h[i+lag]\n",
    "\n",
    "            cos_sim_trial = 0\n",
    "\n",
    "            for h1, h2 in zip(trial, h_lag):\n",
    "\n",
    "                cos_sim_trial += cosine_sim(h1,h2)\n",
    "            \n",
    "            cosine_sim_dict_lag[lag].append(cos_sim_trial/trial.shape[0])\n",
    "\n",
    "    return cosine_sim_dict_lag\n",
    "\n",
    "\n",
    "def end_start_sim_lag(h_start, h_end, lag_values):\n",
    "\n",
    "    '''\n",
    "    Computes cosine similarity between final hidden activity at trial\n",
    "    t and delay start hidden activities for trials at specified lag_values\n",
    "    @param h_start: delay start hidden activity\n",
    "    @param h_end: final hidden activity vectors\n",
    "    @param lag_values: lag_values to compute similarity across\n",
    "    '''\n",
    "\n",
    "    cosine_sim_dict = {}\n",
    "    for lag in lag_values:\n",
    "        cosine_sim_dict[lag] = {}\n",
    "        for time in range(h_start.shape[1]):\n",
    "            cosine_sim_dict[lag][time] = []\n",
    "\n",
    "\n",
    "    for trial in range(h_end.shape[0]):\n",
    "        for lag in lag_values:\n",
    "\n",
    "            h_end_current = h_end[trial]\n",
    "\n",
    "            if trial + lag >= h_start.shape[0]:\n",
    "                continue\n",
    "            \n",
    "            h_start_next = h_start[trial+lag]\n",
    "\n",
    "            for m, h in enumerate(h_start_next):\n",
    "                cs = cosine_sim(h_end_current, h)\n",
    "                cosine_sim_dict[lag][m].append(cs)\n",
    "\n",
    "    return cosine_sim_dict\n",
    "\n",
    "\n",
    "def plot_lag_similarity_values(cosine_sim_dict_lag, title, color, label, marker,\n",
    "    xlabel=None):\n",
    "\n",
    "    '''\n",
    "    Plots output of compute_sim_lag and end_start_sim_lag\n",
    "    '''\n",
    "\n",
    "    mean_sim_values_dict = []\n",
    "    std_sim_values_dict = []\n",
    "\n",
    "    for v in cosine_sim_dict_lag.values():\n",
    "        mean_sim_values_dict.append(np.mean(v))\n",
    "        std_sim_values_dict.append(np.std(v))\n",
    "\n",
    "    sns.set_theme()\n",
    "    plt.errorbar(x=cosine_sim_dict_lag.keys(), y=mean_sim_values_dict, yerr=std_sim_values_dict, \n",
    "    color=color, label=label, marker=marker)\n",
    "    plt.title(title, fontsize=18)\n",
    "    plt.xticks(list(cosine_sim_dict_lag.keys()))\n",
    "    plt.ylabel(\"Cosine similarity\", fontsize=16)\n",
    "    plt.xlabel(xlabel, fontsize=16)\n",
    "    plt.legend()\n",
    "\n",
    "def compute_intrusion_count(model, optimizer):\n",
    "\n",
    "    '''\n",
    "    Compares ratio of immediate intrusion to non-immediate intrusions. \n",
    "    @param model: PyTorch model object\n",
    "    @param optimizer: PyTorch optimizer \n",
    "    '''\n",
    "\n",
    "    rtt = run_test_trials(model, optimizer, 0.5)\n",
    "    rtt.run_model(device, 6, config, base)\n",
    "    y_test = rtt.y_test_all\n",
    "    y_hat_gt = rtt.y_hat_all\n",
    "    X_test = rtt.X_test_all\n",
    "    h_stacked = rtt.h_stacked\n",
    "\n",
    "    y_hat = rtt.y_hat_recall\n",
    "    y_test = rtt.y_test_recall\n",
    "\n",
    "    non_immediate_intrusion_count = 0 \n",
    "    immediate_intrusion_count = 0 \n",
    "\n",
    "    intrusion_letters = []\n",
    "\n",
    "    for i in range(y_hat.shape[0]):\n",
    "\n",
    "        if i == 0:\n",
    "            continue\n",
    "        \n",
    "        y_hat_prev = y_hat[i-1]\n",
    "        y_hat_current = y_hat[i]\n",
    "        y_test_current = y_test[i]\n",
    "\n",
    "        for letter in y_hat_current:\n",
    "            \n",
    "            # if letter was not in the presented list\n",
    "            if letter not in y_test_current:\n",
    "                # if letter was in the previously recalled list,\n",
    "                # increment immediate intrusion count\n",
    "                if letter in y_hat_prev:\n",
    "                    immediate_intrusion_count += 1\n",
    "                # otherwise, increment non_immediate_intrusion_count \n",
    "                else:\n",
    "                    non_immediate_intrusion_count += 1\n",
    "                intrusion_letters.append(int(letter.numpy()))\n",
    "\n",
    "    return immediate_intrusion_count, non_immediate_intrusion_count, intrusion_letters"
   ]
  },
  {
   "cell_type": "code",
   "execution_count": 13,
   "metadata": {},
   "outputs": [
    {
     "ename": "NameError",
     "evalue": "name 'model' is not defined",
     "output_type": "error",
     "traceback": [
      "\u001b[0;31m---------------------------------------------------------------------------\u001b[0m",
      "\u001b[0;31mNameError\u001b[0m                                 Traceback (most recent call last)",
      "\u001b[0;32m<ipython-input-13-c834e7b688d8>\u001b[0m in \u001b[0;36m<module>\u001b[0;34m\u001b[0m\n\u001b[0;32m----> 1\u001b[0;31m \u001b[0mrtt\u001b[0m \u001b[0;34m=\u001b[0m \u001b[0mrun_test_trials\u001b[0m\u001b[0;34m(\u001b[0m\u001b[0mmodel\u001b[0m\u001b[0;34m,\u001b[0m \u001b[0moptimizer\u001b[0m\u001b[0;34m,\u001b[0m \u001b[0;36m0.5\u001b[0m\u001b[0;34m)\u001b[0m\u001b[0;34m\u001b[0m\u001b[0;34m\u001b[0m\u001b[0m\n\u001b[0m\u001b[1;32m      2\u001b[0m \u001b[0mrtt\u001b[0m\u001b[0;34m.\u001b[0m\u001b[0mrun_model\u001b[0m\u001b[0;34m(\u001b[0m\u001b[0mdevice\u001b[0m\u001b[0;34m,\u001b[0m \u001b[0;36m6\u001b[0m\u001b[0;34m,\u001b[0m \u001b[0mconfig\u001b[0m\u001b[0;34m,\u001b[0m \u001b[0mbase\u001b[0m\u001b[0;34m)\u001b[0m\u001b[0;34m\u001b[0m\u001b[0;34m\u001b[0m\u001b[0m\n\u001b[1;32m      3\u001b[0m \u001b[0mh\u001b[0m \u001b[0;34m=\u001b[0m \u001b[0mrtt\u001b[0m\u001b[0;34m.\u001b[0m\u001b[0mh_stacked\u001b[0m\u001b[0;34m.\u001b[0m\u001b[0mnumpy\u001b[0m\u001b[0;34m(\u001b[0m\u001b[0;34m)\u001b[0m\u001b[0;34m\u001b[0m\u001b[0;34m\u001b[0m\u001b[0m\n\u001b[1;32m      4\u001b[0m \u001b[0my_recall\u001b[0m \u001b[0;34m=\u001b[0m \u001b[0mrtt\u001b[0m\u001b[0;34m.\u001b[0m\u001b[0my_hat_recall\u001b[0m\u001b[0;34m\u001b[0m\u001b[0;34m\u001b[0m\u001b[0m\n\u001b[1;32m      5\u001b[0m \u001b[0mrtt\u001b[0m\u001b[0;34m.\u001b[0m\u001b[0mcompute_ppr\u001b[0m\u001b[0;34m(\u001b[0m\u001b[0;34m)\u001b[0m\u001b[0;34m\u001b[0m\u001b[0;34m\u001b[0m\u001b[0m\n",
      "\u001b[0;31mNameError\u001b[0m: name 'model' is not defined"
     ]
    }
   ],
   "source": [
    "rtt = run_test_trials(model, optimizer, 0.5)\n",
    "rtt.run_model(device, 6, config, base)\n",
    "h = rtt.h_stacked.numpy()\n",
    "y_recall = rtt.y_hat_recall\n",
    "rtt.compute_ppr()\n",
    "\n",
    "h_encoded = h[:, 4:9]\n",
    "h_retrieval = h[:, 11:17]\n",
    "h_start = h[:, 0:4]\n",
    "h_end = h[:, -1]\n",
    "\n",
    "rtt_protrusions = run_test_trials(model, optimizer, 0.5)\n",
    "rtt_protrusions.run_model(device, 6, config, base, protrusions=True, dict_key='even_odd', shuffle=False)\n",
    "hp = rtt_protrusions.h_stacked.numpy()\n",
    "y_recallp = rtt_protrusions.y_hat_recall\n",
    "h_encoded_p = hp[:, 4:10]\n",
    "h_retrieval_p = hp[:, 11:17]"
   ]
  },
  {
   "cell_type": "code",
   "execution_count": 32,
   "metadata": {},
   "outputs": [],
   "source": [
    "# compute positional similarity across trials \n",
    "#sim_values_dict_ref_2 = pos_sim_across_trials(h, 2, 6)\n",
    "#plot_mean_std_sim_values(sim_values_dict_ref_2, title='Reference position 2')"
   ]
  },
  {
   "cell_type": "code",
   "execution_count": null,
   "metadata": {},
   "outputs": [],
   "source": [
    "'''\n",
    "Test simplified EM model\n",
    "'''\n",
    "retrieved_same_pos = test_EM_retrieval(h_encoded_p, h_encoded_p)\n",
    "retrieved_same_pos_reg = test_EM_retrieval(h_encoded, h_encoded)\n",
    "retrieved_same_pos_reg_er= test_EM_retrieval(h_encoded, h_retrieval)\n",
    "retrieved_same_pos_reg_rr = test_EM_retrieval(h_retrieval, h_retrieval)\n",
    "\n",
    "sns.set_theme()\n",
    "plt.bar(retrieved_same_pos.keys(), retrieved_same_pos.values(), width=.5)\n",
    "plt.hlines(h_encoded_p.shape[0]/6, -.5, 6, colors='r', linestyles='dashed')\n",
    "plt.ylabel(\"Retrieved same position from EM\", fontsize=14)\n",
    "plt.xlabel(\"WM position\", fontsize=16)\n",
    "plt.title(\"Simple EM retrieval, even odd trials\", fontsize=18)\n",
    "plt.show()\n",
    "sns.set_theme()\n",
    "\n",
    "sns.set_theme()\n",
    "plt.bar(retrieved_same_pos_reg.keys(), retrieved_same_pos_reg.values(), width=.5)\n",
    "plt.hlines(h_encoded.shape[0]/6, -.5, 6, colors='r', linestyles='dashed')\n",
    "plt.ylabel(\"Retrieved same position from EM\", fontsize=14)\n",
    "plt.xlabel(\"WM position\", fontsize=16)\n",
    "plt.title(\"Simple EM retrieval\", fontsize=18)\n",
    "plt.show()\n",
    "plt.bar(retrieved_same_pos_reg_er.keys(), retrieved_same_pos_reg_er.values(), width=.5)\n",
    "plt.hlines(h_encoded_p.shape[0]/6, -.5, 6, colors='r', linestyles='dashed')\n",
    "plt.ylabel(\"Retrieved same position from EM\", fontsize=14)\n",
    "plt.xlabel(\"WM position\", fontsize=16)\n",
    "plt.title(\"Simple EM retrieval (ER)\", fontsize=18)\n",
    "plt.show()\n",
    "plt.bar(retrieved_same_pos_reg_rr.keys(), retrieved_same_pos_reg_rr.values(), width=.5)\n",
    "plt.hlines(h_encoded_p.shape[0]/6, -.5, 6, colors='r', linestyles='dashed')\n",
    "plt.ylabel(\"Retrieved same position from EM\", fontsize=14)\n",
    "plt.xlabel(\"WM position\", fontsize=16)\n",
    "plt.title(\"Simple EM retrieval (RR)\", fontsize=18)\n",
    "plt.show()\n"
   ]
  },
  {
   "cell_type": "code",
   "execution_count": 12,
   "metadata": {},
   "outputs": [
    {
     "ename": "NameError",
     "evalue": "name 'h_encoded' is not defined",
     "output_type": "error",
     "traceback": [
      "\u001b[0;31m---------------------------------------------------------------------------\u001b[0m",
      "\u001b[0;31mNameError\u001b[0m                                 Traceback (most recent call last)",
      "\u001b[0;32m<ipython-input-12-74265b050973>\u001b[0m in \u001b[0;36m<module>\u001b[0;34m\u001b[0m\n\u001b[0;32m----> 1\u001b[0;31m \u001b[0mcosine_sim_dict_lag_start\u001b[0m \u001b[0;34m=\u001b[0m \u001b[0mcompute_sim_lag\u001b[0m\u001b[0;34m(\u001b[0m\u001b[0mh_encoded\u001b[0m\u001b[0;34m,\u001b[0m \u001b[0;34m[\u001b[0m\u001b[0;34m-\u001b[0m\u001b[0;36m5\u001b[0m\u001b[0;34m,\u001b[0m \u001b[0;34m-\u001b[0m\u001b[0;36m3\u001b[0m\u001b[0;34m,\u001b[0m \u001b[0;34m-\u001b[0m\u001b[0;36m1\u001b[0m\u001b[0;34m,\u001b[0m \u001b[0;36m1\u001b[0m\u001b[0;34m,\u001b[0m \u001b[0;36m3\u001b[0m\u001b[0;34m,\u001b[0m \u001b[0;36m5\u001b[0m\u001b[0;34m]\u001b[0m\u001b[0;34m)\u001b[0m\u001b[0;34m\u001b[0m\u001b[0;34m\u001b[0m\u001b[0m\n\u001b[0m\u001b[1;32m      2\u001b[0m plot_lag_similarity_values(cosine_sim_dict_lag_start, title='Lag similarity plot (Encoding)', \n\u001b[1;32m      3\u001b[0m color='b', label=None, marker='o', xlabel='Lag values', )    \n",
      "\u001b[0;31mNameError\u001b[0m: name 'h_encoded' is not defined"
     ]
    }
   ],
   "source": [
    "cosine_sim_dict_lag_start = compute_sim_lag(h_encoded, [-5, -3, -1, 1, 3, 5])\n",
    "plot_lag_similarity_values(cosine_sim_dict_lag_start, title='Lag similarity plot (Encoding)', \n",
    "color='b', label=None, marker='o', xlabel='Lag values', )    "
   ]
  },
  {
   "cell_type": "code",
   "execution_count": 32,
   "metadata": {},
   "outputs": [
    {
     "data": {
      "image/png": "[encoded data removed]",
      "text/plain": [
       "<Figure size 432x288 with 1 Axes>"
      ]
     },
     "metadata": {},
     "output_type": "display_data"
    }
   ],
   "source": [
    "cosine_sim_dict_start_end = end_start_sim_lag(h_start, h_end, [1,3,5])\n",
    "plot_lag_similarity_values(cosine_sim_dict_start_end[1], '', 'b', label='Lag 1', \n",
    "marker='o')\n",
    "plot_lag_similarity_values(cosine_sim_dict_start_end[3], '', 'r', label='Lag 3', \n",
    "marker='o')\n",
    "plot_lag_similarity_values(cosine_sim_dict_start_end[5], 'RNN removes previous trial information', 'g', \n",
    "label='Lag 5', marker='x', xlabel='Delay start time')\n"
   ]
  },
  {
   "cell_type": "code",
   "execution_count": 55,
   "metadata": {},
   "outputs": [
    {
     "name": "stdout",
     "output_type": "stream",
     "text": [
      "80.0 693.0\n"
     ]
    },
    {
     "data": {
      "image/png": "[encoded data removed]",
      "text/plain": [
       "<Figure size 432x288 with 1 Axes>"
      ]
     },
     "metadata": {},
     "output_type": "display_data"
    }
   ],
   "source": [
    "ii_count_total = 0 \n",
    "nii_count_total = 0 \n",
    "intrusion_letters_all = []\n",
    "for i in range(1):\n",
    "    ii_count, nii_count, intrusion_letters = compute_intrusion_count(model, optimizer)\n",
    "    intrusion_letters_all.append(intrusion_letters)\n",
    "    ii_count_total += ii_count\n",
    "    nii_count_total += nii_count\n",
    "\n",
    "intrusion_dist = np.concatenate(intrusion_letters_all)\n",
    "sns.set_theme()\n",
    "plt.hist(np.concatenate(intrusion_letters_all), bins=np.arange(0,config['output_size'],1), density=True)\n",
    "plt.xlabel(\"Letter index\", fontsize=16)\n",
    "plt.ylabel(\"Intrusion count\", fontsize=16)\n",
    "plt.title(\"Intrusion distribution\", fontsize=18)\n",
    "\n",
    "print(ii_count_total/1.0, nii_count_total/1.0)"
   ]
  },
  {
   "cell_type": "code",
   "execution_count": 95,
   "metadata": {},
   "outputs": [],
   "source": [
    "# Arbitrarily select 300 trials from each condition \n",
    "rng = np.random.default_rng(0)\n",
    "min_trials_567 = min(h_5.shape[0], h_6.shape[0], h_7.shape[0])\n",
    "selected_trials = rng.integers(0, min_trials_567, 300)\n",
    "h_5_selected = h_5[selected_trials]\n",
    "h_6_selected = h_6[selected_trials]\n",
    "h_7_selected = h_7[selected_trials]\n",
    "\n",
    "absolute_position_mat = np.concatenate((h_5_selected[:, 9], h_6_selected[:, 9], \n",
    "h_7_selected[:, 9]))\n",
    "relative_position_mat = np.concatenate((h_5_selected[:, 9], h_6_selected[:, 10], \n",
    "h_7_selected[:, 11]))"
   ]
  },
  {
   "cell_type": "code",
   "execution_count": 104,
   "metadata": {},
   "outputs": [],
   "source": [
    "def list_length_by_index(index, num_lists_per_ll=300):\n",
    "\n",
    "    if index < num_lists_per_ll:\n",
    "        ll = 5\n",
    "    elif index >= num_lists_per_ll and index < num_lists_per_ll*2:\n",
    "        ll = 6\n",
    "    else:\n",
    "        ll = 7\n",
    "\n",
    "    return ll\n"
   ]
  },
  {
   "cell_type": "code",
   "execution_count": 105,
   "metadata": {},
   "outputs": [],
   "source": [
    "cosine_sim_absolute_pos = []\n",
    "for i, h1 in enumerate(absolute_position_mat):\n",
    "    for j, h2 in enumerate(absolute_position_mat):\n",
    "\n",
    "        l1 = list_length_by_index(i)\n",
    "        l2 = list_length_by_index(j)\n",
    "        \n",
    "        # if lists lengths are the same, skip \n",
    "        if l1 == l2:\n",
    "            continue\n",
    "        else:\n",
    "            cosine_sim_absolute_pos.append(cosine_sim(h1,h2))\n",
    "\n",
    "cosine_sim_relative_pos = []\n",
    "for i, h1 in enumerate(relative_position_mat):\n",
    "    for j, h2 in enumerate(relative_position_mat):\n",
    "\n",
    "        l1 = list_length_by_index(i)\n",
    "        l2 = list_length_by_index(j)\n",
    "        \n",
    "        # if lists lengths are the same, skip \n",
    "        if l1 == l2:\n",
    "            continue\n",
    "        else:\n",
    "            cosine_sim_relative_pos.append(cosine_sim(h1,h2))"
   ]
  },
  {
   "cell_type": "code",
   "execution_count": 107,
   "metadata": {},
   "outputs": [
    {
     "data": {
      "text/plain": [
       "<ErrorbarContainer object of 3 artists>"
      ]
     },
     "execution_count": 107,
     "metadata": {},
     "output_type": "execute_result"
    },
    {
     "data": {
      "image/png": "[encoded data removed]",
      "text/plain": [
       "<Figure size 432x288 with 1 Axes>"
      ]
     },
     "metadata": {},
     "output_type": "display_data"
    }
   ],
   "source": [
    "sns.set_theme()\n",
    "plt.ylabel(\"Cosine similarity\", fontsize=16)\n",
    "plt.xlabel(\"Condition\", fontsize=16)\n",
    "plt.title(\"BPO6\", fontsize=18)\n",
    "plt.errorbar(x=['Absolute', 'Relative'], y=[np.mean(cosine_sim_absolute_pos), np.mean(cosine_sim_relative_pos)], \n",
    "yerr=[np.std(cosine_sim_absolute_pos), np.std(cosine_sim_relative_pos)], marker='o')\n"
   ]
  },
  {
   "cell_type": "code",
   "execution_count": 109,
   "metadata": {},
   "outputs": [
    {
     "data": {
      "text/plain": [
       "Ttest_relResult(statistic=339.38161532266764, pvalue=0.0)"
      ]
     },
     "execution_count": 109,
     "metadata": {},
     "output_type": "execute_result"
    }
   ],
   "source": [
    "ttest_rel(cosine_sim_relative_pos, cosine_sim_absolute_pos)"
   ]
  },
  {
   "cell_type": "code",
   "execution_count": 106,
   "metadata": {},
   "outputs": [
    {
     "data": {
      "text/plain": [
       "540000"
      ]
     },
     "execution_count": 106,
     "metadata": {},
     "output_type": "execute_result"
    }
   ],
   "source": [
    "len(cosine_sim_relative_pos)"
   ]
  },
  {
   "cell_type": "code",
   "execution_count": null,
   "metadata": {},
   "outputs": [],
   "source": [
    "intrusion_graph = {'1': [], '2': [], '3': [], '4': [], '5': [], '6': []}\n",
    "protrusion_ratio = []\n",
    "\n",
    "y_hat = rtt.y_hat_recall\n",
    "y_test = rtt.y_test_recall\n",
    "\n",
    "intrusion_index = 0\n",
    "protrusion_index = 0\n",
    "for i in range(y_hat.shape[0]):\n",
    "\n",
    "    if i == 0:\n",
    "        continue\n",
    "    \n",
    "    y_hat_prev = y_hat[i-1]\n",
    "    y_hat_current = y_hat[i]\n",
    "    y_test_current = y_test[i]\n",
    "\n",
    "    # collect indices where y_hat_current equals y_hat_prev\n",
    "    overlap = np.isin(y_hat_current, y_hat_prev)\n",
    "\n",
    "    # if there are no matching indices, continue\n",
    "    if np.sum(overlap) == 0:\n",
    "        continue \n",
    "\n",
    "    matching_indices = np.argwhere(overlap)\n",
    "\n",
    "    for j in matching_indices:\n",
    "        \n",
    "        # if matching index is not in the presented list, it is an intrusion \n",
    "        if y_hat_current[j][0] not in y_test_current: \n",
    "            prev_intrusion_loc = np.argwhere(y_hat_current[j][0] == y_hat_prev)[0][0] + 1\n",
    "            intrusion_index+=1\n",
    "            if j == int(prev_intrusion_loc)-1:\n",
    "                protrusion_index+=1\n",
    "            intrusion_graph[str(j[0]+1)].append(int(prev_intrusion_loc))\n",
    "\n",
    "if intrusion_index != 0:\n",
    "    print(protrusion_index/intrusion_index)\n",
    "    protrusion_ratio.append(protrusion_index/intrusion_index)\n",
    "\n",
    "fig, ax = plt.subplots(1,6, sharex=False, sharey=True, figsize=(12,8))\n",
    "sns.despine()\n",
    "for i in range(6): \n",
    "    ax[i].hist(x = intrusion_graph[str(i+1)], bins=np.arange(1,9,1), \n",
    "    density=False, color=(0,0,0), rwidth=.8)\n",
    "    ax[i].set_xlabel(i+1, fontsize=18)\n",
    "    ax[i].set_xticks([1,2,3,4,5,6])\n",
    "    #ax[i].set_yticks([0, .25, .5, .75, 1])\n",
    "    ax[0].tick_params(axis='y', which='major', labelsize=24)\n",
    "    ax[i].tick_params(axis='x', labelsize=8)\n",
    "    if i > 0:\n",
    "        ax[i].get_yaxis().set_visible(False)\n",
    "        sns.despine(left=True, ax=ax[i])\n",
    "#plt.subplots_adjust(wspace=0, hspace=0)\n",
    "plt.text(-20, -.17, 'Position', fontsize=24)\n",
    "plt.show()\n",
    "        "
   ]
  }
 ],
 "metadata": {
  "kernelspec": {
   "display_name": "Python 3.8.10 64-bit",
   "language": "python",
   "name": "python3"
  },
  "language_info": {
   "codemirror_mode": {
    "name": "ipython",
    "version": 3
   },
   "file_extension": ".py",
   "mimetype": "text/x-python",
   "name": "python",
   "nbconvert_exporter": "python",
   "pygments_lexer": "ipython3",
   "version": "3.8.10"
  },
  "orig_nbformat": 4,
  "vscode": {
   "interpreter": {
    "hash": "767d51c1340bd893661ea55ea3124f6de3c7a262a8b4abca0554b478b1e2ff90"
   }
  }
 },
 "nbformat": 4,
 "nbformat_minor": 2
}
