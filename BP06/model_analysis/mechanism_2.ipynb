{
 "cells": [
  {
   "cell_type": "code",
   "execution_count": 163,
   "metadata": {},
   "outputs": [],
   "source": [
    "import torch \n",
    "import torch.nn as nn\n",
    "from torch.utils.data import Dataset, DataLoader\n",
    "import numpy as np\n",
    "from itertools import permutations \n",
    "import wandb\n",
    "import sys\n",
    "base = '/home3/ebrahim/isr/'\n",
    "sys.path.append(base)\n",
    "from RNNcell import RNN_one_layer\n",
    "from run_test_trials import run_test_trials\n",
    "from sklearn.linear_model import LogisticRegression, Ridge\n",
    "from sklearn.preprocessing import OneHotEncoder\n",
    "from sklearn.metrics import r2_score\n",
    "from matplotlib import pyplot as plt\n",
    "from skimage.measure import block_reduce\n",
    "from scipy.stats import pearsonr\n",
    "import pandas as pd\n",
    "import seaborn as sns\n",
    "import pickle\n"
   ]
  },
  {
   "cell_type": "code",
   "execution_count": 130,
   "metadata": {},
   "outputs": [],
   "source": [
    "class Regression_Trials(Dataset):\n",
    "\n",
    "    def __init__(self, num_letters, letters_subset, list_length):\n",
    "\n",
    "        '''\n",
    "        Dataset is composed of all possible permutations of \n",
    "        the available subset of letters (s) for the specified list length (l).\n",
    "\n",
    "        Example: If a,b, and c are the available letters, and list length is 2,\n",
    "        then the dataset will be {ab, ba, ac, ca, bc, cb}.\n",
    "\n",
    "        Length of this dataset is s! / (s-l)!. \n",
    "\n",
    "        @param num_letters: number of total letters (classes - 1) RNN was trained on\n",
    "        @param letters_subset: subset of letters used for regression analyses \n",
    "        @param list_length: length of list for regression analyses \n",
    "        '''\n",
    "        X_p = [] # store permutations \n",
    "        X_int = permutations(letters_subset, list_length)\n",
    "\n",
    "        for p in X_int:\n",
    "            X_p.append(p)\n",
    "\n",
    "        X_int = np.stack(X_p) # shape: num_permutations x list_length \n",
    "        \n",
    "        recall_cue = np.ones((X_int.shape[0], list_length+1)) * num_letters \n",
    "        self.X = torch.nn.functional.one_hot(torch.from_numpy(np.hstack((X_int, recall_cue))).to(torch.long)\n",
    "        , num_classes=num_letters+1)\n",
    "\n",
    "        end_of_list_cue = np.ones((X_int.shape[0], 1)) * num_letters\n",
    "        y_int = torch.from_numpy(np.hstack((X_int, X_int, end_of_list_cue))).to(torch.long)\n",
    "        self.y = torch.nn.functional.one_hot(y_int, num_classes=num_letters+1)\n",
    "\n",
    "        self.X_reg = np.hstack((X_int, X_int)).T\n",
    "\n",
    "    def __len__(self):\n",
    "\n",
    "        return self.X.size(0)\n",
    "\n",
    "    def __getitem__(self, idx):\n",
    "\n",
    "        return self.X[idx].to(torch.float32), self.y[idx].to(torch.float32)"
   ]
  },
  {
   "cell_type": "code",
   "execution_count": 131,
   "metadata": {},
   "outputs": [],
   "source": [
    "num_letters = 26\n",
    "if num_letters == 10:\n",
    "    letters_subset = [0, 1, 4, 7, 9]\n",
    "else:\n",
    "    letters_subset = [0,1,4,7,10,13,16,19,22,25]\n",
    "list_length = 4\n",
    "rt = Regression_Trials(num_letters, letters_subset, list_length)\n",
    "rt_dataloader = DataLoader(rt, batch_size=1, shuffle=False)"
   ]
  },
  {
   "cell_type": "code",
   "execution_count": 132,
   "metadata": {},
   "outputs": [],
   "source": [
    "def inverse_sigmoid(y):\n",
    "\n",
    "    '''\n",
    "    Reverses impact of sigmoid\n",
    "    '''\n",
    "    return torch.log(y/(1-y))\n",
    "\n"
   ]
  },
  {
   "cell_type": "code",
   "execution_count": 133,
   "metadata": {},
   "outputs": [],
   "source": [
    "# load model\n",
    "base = '/home3/ebrahim/isr/'\n",
    "modelPATH_arr = ['feedback_onehot_26_SGD_noise_0.0_nobias', 'SGD_with_repeats_0.1',\n",
    "            'SGD_with_repeats_0.2', 'SGD_with_repeats_0.3', 'small_RNN_70']\n",
    "\n",
    "runPATH_arr = [\"ebrahimfeghhi/serial_recall_RNNs/gd12r252\", \"ebrahimfeghhi/isr/4l18pob1\", \n",
    "            \"ebrahimfeghhi/isr/bsfv6vez\", \"ebrahimfeghhi/isr/hmo989ap\", \"ebrahimfeghhi/isr/loy3je5e\"]\n",
    "\n",
    "i = 0\n",
    "\n",
    "api = wandb.Api()\n",
    "run = api.run(runPATH_arr[i])\n",
    "config = run.config\n",
    "saved_info = torch.load(base + 'saved_models/' +  modelPATH_arr[i]  + '/model_human.pth')\n",
    "model = RNN_one_layer(config['num_letters']+1, config['hs'], config['num_letters']+1, noise_std=config['noise_std'],\n",
    "                        feedback_bool=True, bias=False)\n",
    "model.load_state_dict(saved_info['model_state_dict'])\n",
    "\n",
    "\n",
    "model_linear = RNN_one_layer(config['num_letters']+1, config['hs'], config['num_letters']+1, noise_std=config['noise_std'],\n",
    "                        feedback_bool=True, bias=False, nonlin='linear')\n",
    "model_linear.load_state_dict(saved_info['model_state_dict'])\n",
    "\n",
    "config['output_size'] = 27\n",
    "config['delay_start'] = 0\n",
    "config['delay_middle'] = 0\n",
    "config['stateful'] = False"
   ]
  },
  {
   "cell_type": "code",
   "execution_count": 134,
   "metadata": {},
   "outputs": [],
   "source": [
    "device = torch.device(\"cuda:0\")\n",
    "run_test = run_test_trials(model, .5)\n",
    "run_test.run_model(device, 4, config, base='/home3/ebrahim/isr/', dataloader=rt_dataloader)\n",
    "h = run_test.h_stacked\n",
    "h_linearized = torch.zeros_like(h)\n",
    "\n",
    "for t, timestep in enumerate(range(h.shape[0])):\n",
    "    for l, list in enumerate(range(h.shape[1])):\n",
    "        h_linearized[t, l] = h[t,l]\n",
    "h = h.cpu().numpy()\n",
    "h_linearized = h_linearized.cpu().numpy()"
   ]
  },
  {
   "cell_type": "code",
   "execution_count": 207,
   "metadata": {},
   "outputs": [
    {
     "name": "stdout",
     "output_type": "stream",
     "text": [
      "(5040, 4, 200)\n"
     ]
    }
   ],
   "source": [
    "h_encode = h[:, 0:4]\n",
    "print(h_encode.shape)"
   ]
  },
  {
   "cell_type": "code",
   "execution_count": 234,
   "metadata": {},
   "outputs": [
    {
     "data": {
      "text/plain": [
       "0.08229011"
      ]
     },
     "execution_count": 234,
     "metadata": {},
     "output_type": "execute_result"
    }
   ],
   "source": [
    "# trial 0, timestep 1, unit 0\n",
    "h[0, 3, 0]"
   ]
  },
  {
   "cell_type": "code",
   "execution_count": 249,
   "metadata": {},
   "outputs": [
    {
     "name": "stdout",
     "output_type": "stream",
     "text": [
      "Hidden activity shape (20160, 200)\n"
     ]
    }
   ],
   "source": [
    "hidden_activity = np.vstack(h_encode)\n",
    "print(f\"Hidden activity shape {hidden_activity.shape}\")\n",
    "# Row i*j is th hidden activity for trial "
   ]
  },
  {
   "cell_type": "code",
   "execution_count": 260,
   "metadata": {},
   "outputs": [
    {
     "name": "stdout",
     "output_type": "stream",
     "text": [
      "good\n",
      "0.008125055 0.008125055\n"
     ]
    }
   ],
   "source": [
    "# iterating over the x axis \n",
    "if np.all(hidden_activity[1] == h[0, 1]):\n",
    "    print(\"good\")\n",
    "print(hidden_activity[8,0], h[2, 0, 0])"
   ]
  },
  {
   "cell_type": "code",
   "execution_count": 136,
   "metadata": {},
   "outputs": [],
   "source": [
    "for name, param in model.named_parameters():\n",
    "    if name == 'h2o.weight':\n",
    "        h2o = param.detach().cpu().numpy()\n",
    "    if name == 'h2o.bias':\n",
    "        h2o_bias = param.detach().cpu().numpy()\n",
    "h2o_letters_subset = h2o[letters_subset]"
   ]
  },
  {
   "cell_type": "code",
   "execution_count": 137,
   "metadata": {},
   "outputs": [
    {
     "name": "stdout",
     "output_type": "stream",
     "text": [
      "torch.Size([5040, 9, 27])\n"
     ]
    }
   ],
   "source": [
    "# convert to time-based one hot encoding \n",
    "X = rt.X\n",
    "print(X.shape)"
   ]
  },
  {
   "cell_type": "code",
   "execution_count": 146,
   "metadata": {},
   "outputs": [],
   "source": [
    "time = np.arange(4)\n",
    "time_one_hot = np.zeros((time.size, time.max()+1))\n",
    "time_one_hot[np.arange(time.size), time] = 1\n",
    "time_one_hot_trials = np.reshape(np.tile(time_one_hot, (int(X.shape[0]), 1)), (X.shape[0], 4, 4))\n"
   ]
  },
  {
   "cell_type": "code",
   "execution_count": 159,
   "metadata": {},
   "outputs": [],
   "source": [
    "# convert to one hot encoding \n",
    "X_reg = rt.X_reg[0:4]\n",
    "enc = OneHotEncoder(sparse=False)\n",
    "X_transform = enc.fit_transform(X_reg.T)\n",
    "X_transform_3d = np.reshape(X_transform, (X_transform.shape[0], 4, 10))\n",
    "X_linear_reg_3d = np.concatenate((X_transform_3d, time_one_hot_trials),axis=2)\n",
    "X_linear_reg = np.vstack(X_linear_reg_3d)"
   ]
  },
  {
   "cell_type": "code",
   "execution_count": 197,
   "metadata": {},
   "outputs": [
    {
     "data": {
      "text/plain": [
       "array([0., 1., 0., 0., 0., 0., 0., 0., 0., 0., 0., 1., 0., 0.])"
      ]
     },
     "execution_count": 197,
     "metadata": {},
     "output_type": "execute_result"
    }
   ],
   "source": [
    "X_linear_reg[1]"
   ]
  },
  {
   "cell_type": "code",
   "execution_count": 182,
   "metadata": {},
   "outputs": [],
   "source": [
    "def compute_element_vectors_single_timestep(X, y, seed):\n",
    "\n",
    "    rng = np.random.default_rng(seed)\n",
    "    train_ind = rng.choice(X.shape[0], int(X.shape[0]*.9))\n",
    "    test_ind = np.setdiff1d(np.arange(0,X.shape[0],1), train_ind) \n",
    "\n",
    "    print(X[train_ind].shape)\n",
    "    print(y[train_ind].shape)\n",
    "\n",
    "    reg = Ridge(alpha=0).fit(X[train_ind], y[train_ind])\n",
    "    y_hat = reg.predict(X[test_ind])\n",
    "\n",
    "    r2_score_value = r2_score(y[test_ind], y_hat)\n",
    "    return round(r2_score_value,5), reg.coef_\n",
    "\n"
   ]
  },
  {
   "cell_type": "code",
   "execution_count": 183,
   "metadata": {},
   "outputs": [
    {
     "name": "stdout",
     "output_type": "stream",
     "text": [
      "(18144, 14)\n",
      "(18144, 200)\n",
      "0.57635\n"
     ]
    }
   ],
   "source": [
    "r2, element_vectors = compute_element_vectors_single_timestep(X_linear_reg, hidden_activity, 0)\n",
    "print(r2)"
   ]
  },
  {
   "cell_type": "code",
   "execution_count": 269,
   "metadata": {},
   "outputs": [],
   "source": [
    "trial_id = np.repeat(np.arange(X_reg.shape[1]), 4)\n",
    "encoding_times = np.tile([1,2,3,4], X_reg.shape[1])"
   ]
  },
  {
   "cell_type": "code",
   "execution_count": 270,
   "metadata": {},
   "outputs": [],
   "source": [
    "single_neuron_PD = pd.DataFrame({'encoding_times': encoding_times, 'letters': X_reg.T.ravel(), \n",
    "'firing_rate':hidden_activity[:, 0], 'trial_id':trial_id})\n",
    "\n",
    "print(AnovaRM(data=single_neuron_PD, depvar='firing_rate', within=['encoding_times', 'letters'], subject='trial_id').fit())"
   ]
  },
  {
   "cell_type": "code",
   "execution_count": 161,
   "metadata": {},
   "outputs": [],
   "source": [
    "def compute_element_vectors(X_all, y_all, num_features, timestep, seed):\n",
    "\n",
    "    '''\n",
    "    @param X_all (numpy array): shape num_permutations x (num_features x num_timesteps)\n",
    "    @param y_all (numpy array): shape num_timesteps x num_permutations x num\n",
    "    @param num_features (int): number of features used to encode each letters\n",
    "    @param timestep (int): timestep to predict y, given X from t = 0:timestep\n",
    "    @param seed (int): seed used to initalize random number generator\n",
    "\n",
    "    Ridge regression model is fit from selected portions of X to y[timestep],\n",
    "    and columns of weights correspond to element vectors. \n",
    "    '''\n",
    "    if timestep != None:\n",
    "        X = X_all[:, :num_features*timestep]\n",
    "        y = y_all[timestep-1]\n",
    "    \n",
    "    rng = np.random.default_rng(seed)\n",
    "    train_ind = rng.choice(X_transform.shape[0], int(X.shape[0]*.9))\n",
    "    test_ind = np.setdiff1d(np.arange(0,X.shape[0],1), train_ind) \n",
    "\n",
    "    reg = Ridge(alpha=0).fit(X[train_ind], y[train_ind])\n",
    "    y_hat = reg.predict(X[test_ind])\n",
    "\n",
    "    r2_score_value = r2_score(y[test_ind], y_hat)\n",
    "    return round(r2_score_value,5), reg.coef_"
   ]
  },
  {
   "cell_type": "code",
   "execution_count": null,
   "metadata": {},
   "outputs": [],
   "source": [
    "compute_element_vectors(X_linear_reg, hidden_activity, "
   ]
  },
  {
   "cell_type": "code",
   "execution_count": 29,
   "metadata": {},
   "outputs": [],
   "source": [
    "def partition_W(W, num_features, MA):\n",
    "    for i in range(int(W.shape[1]/num_features)):\n",
    "        MA[i].append(W[:, i*num_features:(i+1)*num_features])"
   ]
  },
  {
   "cell_type": "code",
   "execution_count": 30,
   "metadata": {},
   "outputs": [
    {
     "name": "stdout",
     "output_type": "stream",
     "text": [
      "R2: 1.0\n",
      "R2: 0.95181\n",
      "R2: 0.91195\n",
      "R2: 0.8904\n",
      "R2: 0.88297\n",
      "R2: 0.86404\n",
      "R2: 0.81297\n",
      "R2: 0.77902\n"
     ]
    }
   ],
   "source": [
    "MA = []\n",
    "for t in [1,2,3,4,5,6,7,8]:\n",
    "    MA.append([])\n",
    "    r2_score_value, W = compute_element_vectors(X_transform, h_linearized, \n",
    "                        len(letters_subset), t, seed=0)\n",
    "    print(\"R2:\", r2_score_value)\n",
    "    \n",
    "    if t==list_length:\n",
    "        W_encoded = W\n",
    "\n",
    "    partition_W(W, len(letters_subset), MA)"
   ]
  },
  {
   "cell_type": "code",
   "execution_count": 31,
   "metadata": {},
   "outputs": [
    {
     "name": "stdout",
     "output_type": "stream",
     "text": [
      "(7, 200, 10)\n"
     ]
    }
   ],
   "source": [
    "MA_t = np.stack(MA[1])\n",
    "print(MA_t.shape)\n",
    "\n",
    "cosine_sim = np.zeros((MA_t.shape[0], MA_t.shape[2]))\n",
    "for t in range(cosine_sim.shape[0]):\n",
    "        for l in range(cosine_sim.shape[1]):\n",
    "            cosine_sim[t,l] = np.dot(MA_t[t, :, l], h2o_letters_subset[l]\n",
    "            ) / (np.linalg.norm(MA_t[t, :, l]) * np.linalg.norm(h2o_letters_subset[l]))"
   ]
  },
  {
   "cell_type": "code",
   "execution_count": 32,
   "metadata": {},
   "outputs": [
    {
     "data": {
      "image/png": "[encoded data removed]",
      "text/plain": [
       "<Figure size 432x288 with 1 Axes>"
      ]
     },
     "metadata": {
      "needs_background": "light"
     },
     "output_type": "display_data"
    }
   ],
   "source": [
    "labels = ['1', '2', '3', '4']\n",
    "for p in range(list_length):\n",
    "    MA_t = np.stack(MA[p])\n",
    "    cosine_sim = np.zeros((MA_t.shape[0], MA_t.shape[2]))\n",
    "    for t in range(cosine_sim.shape[0]):\n",
    "        for l in range(cosine_sim.shape[1]):\n",
    "            cosine_sim[t,l] = np.dot(MA_t[t, :, l], h2o_letters_subset[l]\n",
    "            ) / (np.linalg.norm(MA_t[t, :, l]) * np.linalg.norm(h2o_letters_subset[l]))\n",
    "\n",
    "    plt.plot(np.arange(p+1,int(list_length*2)+1, 1), np.mean(cosine_sim, axis=1), marker='o', label=labels[p])"
   ]
  },
  {
   "cell_type": "code",
   "execution_count": 33,
   "metadata": {},
   "outputs": [
    {
     "data": {
      "text/plain": [
       "Text(0.5, 1.0, 'Correlation between element vectors')"
      ]
     },
     "execution_count": 33,
     "metadata": {},
     "output_type": "execute_result"
    },
    {
     "data": {
      "image/png": "[encoded data removed]",
      "text/plain": [
       "<Figure size 432x288 with 2 Axes>"
      ]
     },
     "metadata": {
      "needs_background": "light"
     },
     "output_type": "display_data"
    }
   ],
   "source": [
    "df = pd.DataFrame(W_encoded)\n",
    "W_corr = df.corr(method='pearson')\n",
    "sns.heatmap(W_corr)\n",
    "plt.title(\"Correlation between element vectors\")"
   ]
  },
  {
   "cell_type": "code",
   "execution_count": 34,
   "metadata": {},
   "outputs": [],
   "source": [
    "def figure_4_code(W_encoding, ls):\n",
    "\n",
    "    '''\n",
    "    @param W_encoding: weights of linear regression model at final encoding step \n",
    "    @param ls: length of letters subset list \n",
    "    '''\n",
    "\n",
    "    df = pd.DataFrame(W_encoding)\n",
    "    W_corr = df.corr(method='pearson')\n",
    "    sns.heatmap(W_corr)\n",
    "    plt.title(\"Correlation between element vectors\")\n",
    "    \n",
    "    c1 = []\n",
    "    c2 = []\n",
    "    c3 = []\n",
    "\n",
    "    for i in range(ls):\n",
    "        c1.append(W_corr.iloc[i, i+ls]) # same item one position apart\n",
    "        c2.append(W_corr.iloc[i, i+2*ls]) # same item two positions apart\n",
    "        c3.append(W_corr.iloc[i, i+3*ls]) # same item three positions apart\n",
    "\n",
    "    c0_n = []\n",
    "    c1_n = []\n",
    "    c2_n = []\n",
    "    c3_n = []\n",
    "\n",
    "    for i in range(ls):\n",
    "        for j in range(ls):\n",
    "            if i == j:\n",
    "                continue\n",
    "            c0_n.append(W_corr.iloc[i,j]) # distinct items at same position\n",
    "            c1_n.append(W_corr.iloc[i,j+ls]) # distinct items one position apart\n",
    "            c2_n.append(W_corr.iloc[i,j+2*ls]) # distinct items two positions apart\n",
    "            c3_n.append(W_corr.iloc[i,j+3*ls]) # distinct items three positions apart\n",
    "\n",
    "    c_same = [c1, c2, c3]\n",
    "    c_diff = [c0_n, c1_n, c2_n, c3_n]\n",
    "\n",
    "    print(\"Same item positional correlations: \", np.mean(np.stack(c_same),axis=1))\n",
    "    print(\"Distinct item positional correlations: \", np.mean(np.stack(c_diff),axis=1))"
   ]
  },
  {
   "cell_type": "code",
   "execution_count": 35,
   "metadata": {},
   "outputs": [
    {
     "name": "stdout",
     "output_type": "stream",
     "text": [
      "Same item positional correlations:  [0.87187959 0.56989004 0.63534821]\n",
      "Distinct item positional correlations:  [-0.11095254 -0.09677726 -0.06328496 -0.07063696]\n"
     ]
    },
    {
     "data": {
      "image/png": "[encoded data removed]",
      "text/plain": [
       "<Figure size 432x288 with 2 Axes>"
      ]
     },
     "metadata": {
      "needs_background": "light"
     },
     "output_type": "display_data"
    }
   ],
   "source": [
    "figure_4_code(W_encoded, ls=10)"
   ]
  },
  {
   "cell_type": "code",
   "execution_count": 51,
   "metadata": {},
   "outputs": [
    {
     "data": {
      "image/png": "[encoded data removed]",
      "text/plain": [
       "<Figure size 720x432 with 1 Axes>"
      ]
     },
     "metadata": {
      "needs_background": "light"
     },
     "output_type": "display_data"
    }
   ],
   "source": [
    "def positional_similarity_simple(t1, t2, X, h):\n",
    "\n",
    "    # obtain input and hidden activity at time t1 and t2\n",
    "    Xt1 = X[:, t1]\n",
    "    Xt2 = X[:, t2]\n",
    "    ht1 = h[t1]\n",
    "    ht2 = h[t2]\n",
    "\n",
    "    # list of length equals to number of unique letters in X\n",
    "    # for every letter, stores the model representations at \n",
    "    # respective times \n",
    "    item_representations_t1 = []\n",
    "    item_representations_t2 = []\n",
    "\n",
    "    # Step 1) Obtain model representation for each item at t1 and t2\n",
    "    for x in np.unique(X):\n",
    "\n",
    "        # locate all instances where a given letter occurs at t1 and t2\n",
    "        x_location_t1 = np.argwhere(Xt1 == x)\n",
    "        x_location_t2 = np.argwhere(Xt2 == x)\n",
    "\n",
    "        # average across all such representations to obtain average model representation \n",
    "        # for a given letter at a given position \n",
    "        item_representations_t1.append(np.mean(np.squeeze(ht1[x_location_t1]),axis=0))\n",
    "        item_representations_t2.append(np.mean(np.squeeze(ht2[x_location_t2]),axis=0))\n",
    "\n",
    "    corr_same = []\n",
    "    corr_diff = []\n",
    "\n",
    "    # Step 2) Compute similarity between item representations \n",
    "    for i, ht1 in enumerate(item_representations_t1):\n",
    "        for j, ht2 in enumerate(item_representations_t2):\n",
    "            if i == j:\n",
    "                r_same, _ = pearsonr(ht1, ht2)\n",
    "                corr_same.append(r_same)\n",
    "            else:\n",
    "                r_diff, _ = pearsonr(ht1, ht2)\n",
    "                corr_diff.append(r_diff)\n",
    "\n",
    "    return corr_same, corr_diff\n",
    "\n",
    "def plot_pos_sim(n, start=0):\n",
    "\n",
    "    plt.figure(figsize=(10,6))\n",
    "\n",
    "    corr_same_avg = {}\n",
    "    corr_diff_avg = {}\n",
    "\n",
    "    for i in range(n-start):\n",
    "        corr_same_avg[i] = []\n",
    "        corr_diff_avg[i] = []\n",
    "\n",
    "    for i in range(start, n):\n",
    "        for j in range(start, n):\n",
    "            corr_same, corr_diff = positional_similarity_simple(j,i,X_reg.T,h_linearized)\n",
    "            corr_same_avg[np.abs(i-j)].append(np.mean(corr_same))\n",
    "            corr_diff_avg[np.abs(i-j)].append(np.mean(corr_diff))\n",
    "\n",
    "    avg_corr_same = {}\n",
    "    std_corr_same = []\n",
    "    for k,v in corr_same_avg.items():\n",
    "        avg_corr_same[k] = sum(v)/ float(len(v))\n",
    "        std_corr_same.append(np.std(v))\n",
    "    \n",
    "    avg_corr_diff = {}\n",
    "    std_corr_diff = []\n",
    "    for k,v in corr_diff_avg.items():\n",
    "        avg_corr_diff[k] = sum(v)/ float(len(v))\n",
    "        std_corr_diff.append(np.std(v))\n",
    "\n",
    "    sns.set_theme()\n",
    "    plt.title(\"Hidden activity similarity across positions\", fontsize=16)\n",
    "    plt.errorbar(avg_corr_same.keys(), avg_corr_same.values(), yerr=std_corr_same, \n",
    "    marker='o', label='Same item')\n",
    "    plt.errorbar(avg_corr_diff.keys(), avg_corr_diff.values(), yerr=std_corr_diff, \n",
    "    marker='o', label='Distinct items')\n",
    "    plt.xlabel(\"Positional distance\", fontsize=16)\n",
    "    plt.ylabel(\"Pearson correlation\", fontsize=16)\n",
    "    plt.ylim(0,1.1)\n",
    "    plt.legend()\n",
    "    plt.show()\n",
    "\n",
    "plot_pos_sim(8)"
   ]
  }
 ],
 "metadata": {
  "interpreter": {
   "hash": "767d51c1340bd893661ea55ea3124f6de3c7a262a8b4abca0554b478b1e2ff90"
  },
  "kernelspec": {
   "display_name": "Python 3.8.10 64-bit",
   "language": "python",
   "name": "python3"
  },
  "language_info": {
   "codemirror_mode": {
    "name": "ipython",
    "version": 3
   },
   "file_extension": ".py",
   "mimetype": "text/x-python",
   "name": "python",
   "nbconvert_exporter": "python",
   "pygments_lexer": "ipython3",
   "version": "3.8.10"
  },
  "orig_nbformat": 4
 },
 "nbformat": 4,
 "nbformat_minor": 2
}
