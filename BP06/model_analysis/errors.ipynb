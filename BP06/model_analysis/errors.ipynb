{
 "cells": [
  {
   "cell_type": "code",
   "execution_count": 16,
   "metadata": {},
   "outputs": [],
   "source": [
    "from matplotlib import pyplot as plt\n",
    "%matplotlib inline\n",
    "import sys\n",
    "sys.path.append('/home3/ebrahim/isr/')\n",
    "from RNNcell import RNN_one_layer, RNN_two_layers\n",
    "from datasets import OneHotLetters, OneHotLetters_test\n",
    "from run_test_trials import run_test_trials\n",
    "from simulation_one import simulation_one\n",
    "from mpl_toolkits.mplot3d import Axes3D\n",
    "from torch.utils.data import DataLoader\n",
    "import torch\n",
    "import torch.nn as nn\n",
    "import numpy as np\n",
    "import wandb\n",
    "device = torch.device(\"cpu\")\n",
    "import seaborn as sns\n",
    "import scipy\n",
    "from sklearn.decomposition import PCA\n",
    "from torch.utils.data import Dataset\n",
    "import pickle\n",
    "import pandas as pd"
   ]
  },
  {
   "cell_type": "code",
   "execution_count": 10,
   "metadata": {},
   "outputs": [
    {
     "data": {
      "text/plain": [
       "<All keys matched successfully>"
      ]
     },
     "execution_count": 10,
     "metadata": {},
     "output_type": "execute_result"
    }
   ],
   "source": [
    "# load model\n",
    "base = '/home3/ebrahim/isr/'\n",
    "modelPATH = 'saved_models/feedback_onehot_26_SGD_noise_0.0_nobias/model_human.pth'\n",
    "runPATH = \"ebrahimfeghhi/isr/gd12r252\"\n",
    "api = wandb.Api()\n",
    "run = api.run(runPATH)\n",
    "config = run.config\n",
    "saved_info = torch.load(base + modelPATH)\n",
    "model = RNN_one_layer(config['num_letters']+1, config['hs'], config['num_letters']+1, noise_std=config['noise_std'],\n",
    "                        feedback_bool=True, bias=False)\n",
    "model.load_state_dict(saved_info['model_state_dict'])"
   ]
  },
  {
   "cell_type": "code",
   "execution_count": 11,
   "metadata": {},
   "outputs": [
    {
     "name": "stdout",
     "output_type": "stream",
     "text": [
      "0.106\n",
      "0.066\n",
      "0.072\n",
      "3.695\n",
      "393\n",
      "0.8092554138237912\n",
      "0.11658261643429249\n"
     ]
    }
   ],
   "source": [
    "# Run sim_one_code\n",
    "sim_one = simulation_one(model, 9, 0.5, 6, fb_type=1)\n",
    "sim_one.run_model(device, 6, config, base='/home3/ebrahim/isr/')\n",
    "print(sim_one.relative_error_ratio)\n",
    "print(sim_one.R_E)\n",
    "print(sim_one.R_T)\n",
    "print(sim_one.ARD)\n",
    "print(sim_one.relative_errors_subset)\n",
    "print(sim_one.fill_in_errors / sim_one.report_early)\n",
    "print(sim_one.relative_errors_subset / sim_one.report_early)"
   ]
  },
  {
   "cell_type": "code",
   "execution_count": 12,
   "metadata": {},
   "outputs": [
    {
     "name": "stdout",
     "output_type": "stream",
     "text": [
      "Number of trials with error at position 1: 772\n"
     ]
    }
   ],
   "source": [
    "y_hat_recall = sim_one.y_hat_recall\n",
    "y_recall = sim_one.y_test_recall\n",
    "h_stacked = sim_one.h_stacked\n",
    "\n",
    "trials_pos1_error = np.argwhere(y_hat_recall[:, 0]!=y_recall[:, 0]).squeeze()\n",
    "print(f\"Number of trials with error at position 1: {trials_pos1_error.shape[0]}\")\n",
    "\n"
   ]
  },
  {
   "cell_type": "code",
   "execution_count": 22,
   "metadata": {},
   "outputs": [
    {
     "data": {
      "image/png": "[encoded data removed]",
      "text/plain": [
       "<Figure size 432x288 with 1 Axes>"
      ]
     },
     "metadata": {
      "needs_background": "light"
     },
     "output_type": "display_data"
    }
   ],
   "source": [
    "# are certain letters more likely to be recalled incorrectly at position 1\n",
    "y_recall_error_pos1 = y_recall[trials_pos1_error]\n",
    "plt.hist(y_recall_error_pos1[:, 0], width=0.5, bins=np.arange(0,26))\n",
    "plt.xlabel(\"Letter\")\n",
    "plt.show()\n",
    "\n",
    "y_hat_recall_error_pos1 = y_hat_recall[trials_pos1_error]\n",
    "plt.hist(y_hat_recall_error_pos1 [:, 0], width=0.5, bins=np.arange(0,26))\n",
    "plt.xlabel(\"Letter\")\n",
    "plt.show()\n"
   ]
  },
  {
   "cell_type": "code",
   "execution_count": null,
   "metadata": {},
   "outputs": [],
   "source": []
  }
 ],
 "metadata": {
  "kernelspec": {
   "display_name": "Python 3.8.10 64-bit",
   "language": "python",
   "name": "python3"
  },
  "language_info": {
   "codemirror_mode": {
    "name": "ipython",
    "version": 3
   },
   "file_extension": ".py",
   "mimetype": "text/x-python",
   "name": "python",
   "nbconvert_exporter": "python",
   "pygments_lexer": "ipython3",
   "version": "3.8.10"
  },
  "orig_nbformat": 4,
  "vscode": {
   "interpreter": {
    "hash": "767d51c1340bd893661ea55ea3124f6de3c7a262a8b4abca0554b478b1e2ff90"
   }
  }
 },
 "nbformat": 4,
 "nbformat_minor": 2
}
