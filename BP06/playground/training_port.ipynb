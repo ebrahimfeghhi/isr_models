{
 "cells": [
  {
   "cell_type": "code",
   "execution_count": 1,
   "metadata": {},
   "outputs": [],
   "source": [
    "import torch \n",
    "import torch.nn as nn\n",
    "from torch.utils.data import Dataset, DataLoader\n",
    "import numpy as np\n",
    "from itertools import permutations \n",
    "import sys\n",
    "base = '/home3/ebrahim/isr/'\n",
    "sys.path.append(base)\n",
    "from datasets import OneHotLetters, OneHotLetters_test\n",
    "from RNNcell import RNN_one_layer\n",
    "from sklearn.linear_model import LogisticRegression, Ridge\n",
    "from sklearn.preprocessing import OneHotEncoder\n",
    "from sklearn.metrics import r2_score\n",
    "from matplotlib import pyplot as plt\n",
    "from skimage.measure import block_reduce\n",
    "from scipy.stats import pearsonr\n",
    "import pandas as pd\n",
    "import seaborn as sns\n",
    "import pickle\n",
    "from itertools import permutations, islice\n",
    "import wandb\n",
    "device = torch.device(\"cuda:0\")"
   ]
  },
  {
   "cell_type": "code",
   "execution_count": 2,
   "metadata": {},
   "outputs": [],
   "source": [
    "# initialize untrained model\n",
    "batch_size = 1\n",
    "stateful = True\n",
    "model = RNN_one_layer(28, 200, 28, noise_std=0,\n",
    "                        feedback_bool=True, bias=False, plastic=False)\n",
    "model = model.to(device)"
   ]
  },
  {
   "cell_type": "code",
   "execution_count": 3,
   "metadata": {},
   "outputs": [],
   "source": [
    "optimizer = torch.optim.Adam(model.parameters(), lr=1e-4, \n",
    "        weight_decay=0)\n",
    "\n",
    "loss_fn = torch.nn.CrossEntropyLoss()"
   ]
  },
  {
   "cell_type": "code",
   "execution_count": 6,
   "metadata": {},
   "outputs": [
    {
     "ename": "NameError",
     "evalue": "name 'h' is not defined",
     "output_type": "error",
     "traceback": [
      "\u001b[0;31m---------------------------------------------------------------------------\u001b[0m",
      "\u001b[0;31mNameError\u001b[0m                                 Traceback (most recent call last)",
      "\u001b[0;32m<ipython-input-6-2cc777d4d6a1>\u001b[0m in \u001b[0;36m<module>\u001b[0;34m\u001b[0m\n\u001b[1;32m     39\u001b[0m         \u001b[0;31m#   encoding_phase = False\u001b[0m\u001b[0;34m\u001b[0m\u001b[0;34m\u001b[0m\u001b[0;34m\u001b[0m\u001b[0m\n\u001b[1;32m     40\u001b[0m \u001b[0;34m\u001b[0m\u001b[0m\n\u001b[0;32m---> 41\u001b[0;31m         \u001b[0mh_single_trial\u001b[0m\u001b[0;34m.\u001b[0m\u001b[0mappend\u001b[0m\u001b[0;34m(\u001b[0m\u001b[0mh\u001b[0m\u001b[0;34m)\u001b[0m\u001b[0;34m\u001b[0m\u001b[0;34m\u001b[0m\u001b[0m\n\u001b[0m\u001b[1;32m     42\u001b[0m \u001b[0;34m\u001b[0m\u001b[0m\n\u001b[1;32m     43\u001b[0m         \u001b[0;31m# initial feedback\u001b[0m\u001b[0;34m\u001b[0m\u001b[0;34m\u001b[0m\u001b[0;34m\u001b[0m\u001b[0m\n",
      "\u001b[0;31mNameError\u001b[0m: name 'h' is not defined"
     ]
    }
   ],
   "source": [
    "# Let's test if the model works \n",
    "h_prev_tensor = None\n",
    "delay_start = 3\n",
    "delay_middle = 1\n",
    "\n",
    "# create dataloader\n",
    "rtt = DataLoader(OneHotLetters(9, 2, '/home3/ebrahim/isr/test_set/test_lists_cleaned_12.pkl', 28, batch_size=batch_size, \n",
    "num_letters=26, delay_start=3, delay_middle=1), batch_size=batch_size, shuffle=False)\n",
    "\n",
    "for batch_idx, (X,y) in enumerate(rtt):\n",
    "\n",
    "    ll = int((X.shape[1] - (delay_start + delay_middle + 1))/2)\n",
    "\n",
    "    # Compute prediction and loss\n",
    "    if batch_idx==0 or stateful==False:\n",
    "        # init initial states\n",
    "        y0, h0, hebb0, i0 = model.init_states(1, device, \n",
    "        0.5)\n",
    "    # if stateful is true and not on the first trial\n",
    "    else:\n",
    "        y0 = y_hat.detach()\n",
    "        h0 = h.detach()\n",
    "        i0 = i.detach()\n",
    "        hebb0 = hebb.detach()\n",
    "\n",
    "    loss = 0\n",
    "    h_single_trial = []\n",
    "\n",
    "    X = X.to(device)\n",
    "    y = y.to(device)\n",
    "    \n",
    "    # run RNN and compute loss\n",
    "    for timestep in range(X.shape[1]):\n",
    "\n",
    "        #if timestep >= delay_start and timestep < (delay_start+ll):\n",
    "        #    encoding_phase = True\n",
    "        #else:\n",
    "        #   encoding_phase = False\n",
    "\n",
    "        h_single_trial.append(h)\n",
    "\n",
    "        # initial feedback \n",
    "        if timestep == 0:\n",
    "            y_hat, h, hebb, i = model(X[:, timestep, :], h0, y0, hebb0, i0, device)\n",
    "        else:\n",
    "            y_hat, h, hebb, i = model(X[:, timestep, :], h, y[:, timestep-1, :], hebb, i, device)\n",
    "\n",
    "        #if encoding_phase: \n",
    "        #    h = EM_retrieval(h, h_prev_tensor, batch_idx)\n",
    "        #    h_current_list.append(h.detach())\n",
    "\n",
    "        loss += loss_fn(y_hat, y[:, timestep, :])\n",
    "\n",
    "    #h_prev_tensor = torch.stack(h_current_list).squeeze()\n",
    "\n",
    "    # Backpropagation\n",
    "    optimizer.zero_grad()\n",
    "    loss.backward()\n",
    "\n",
    "    optimizer.step()\n",
    "\n",
    "\n",
    "print(\"Model can leave the port!\")"
   ]
  },
  {
   "cell_type": "code",
   "execution_count": 13,
   "metadata": {},
   "outputs": [],
   "source": [
    "def EM_retrieval(h, h_prev_tensor, batch_idx):\n",
    "\n",
    "    # no EM store exists \n",
    "    if batch_idx == 0:\n",
    "        return h\n",
    "\n",
    "    cos_sim = torch.nn.CosineSimilarity(dim=1)\n",
    "    cos_sim_values = cos_sim(h, h_prev_tensor)\n",
    "    softmax = torch.nn.Softmax(dim=0)\n",
    "    softmax_cos_sim_values = softmax(cos_sim_values*100)\n",
    "    print(softmax_cos_sim_values.shape)\n",
    "    print(h_prev_tensor.shape)\n",
    "    EM = softmax_cos_sim_values@h_prev_tensor\n",
    "    h_EM = h + EM\n",
    "    return h_EM \n",
    "    "
   ]
  },
  {
   "cell_type": "code",
   "execution_count": null,
   "metadata": {},
   "outputs": [
    {
     "name": "stdout",
     "output_type": "stream",
     "text": [
      "torch.Size([1, 200])\n",
      "torch.Size([200])\n"
     ]
    }
   ],
   "source": [
    "h_prev_tensor = torch.stack(h_current_list).squeeze()\n",
    "cos_sim = torch.nn.CosineSimilarity(dim=1)\n",
    "cos_sim_values = cos_sim(h, h_prev_tensor)\n",
    "softmax = torch.nn.Softmax(dim=0)\n",
    "softmax_cos_sim_values = softmax(cos_sim_values*100)\n",
    "EM = softmax_cos_sim_values@h_prev_tensor\n",
    "print(EM.shape)\n",
    "\n",
    "\n"
   ]
  },
  {
   "cell_type": "code",
   "execution_count": 52,
   "metadata": {},
   "outputs": [
    {
     "name": "stdout",
     "output_type": "stream",
     "text": [
      "torch.Size([3])\n",
      "torch.Size([3, 3])\n"
     ]
    },
    {
     "data": {
      "text/plain": [
       "tensor([0.2500, 0.2500, 0.5000])"
      ]
     },
     "execution_count": 52,
     "metadata": {},
     "output_type": "execute_result"
    }
   ],
   "source": [
    "a = torch.Tensor([.25,.25,.5])\n",
    "b = torch.Tensor([[1,0,0],[0,1,0], [0,0,1]])\n",
    "print(a.shape)\n",
    "print(b.shape)\n",
    "a@b"
   ]
  },
  {
   "cell_type": "code",
   "execution_count": null,
   "metadata": {},
   "outputs": [],
   "source": []
  }
 ],
 "metadata": {
  "kernelspec": {
   "display_name": "Python 3.8.10 64-bit",
   "language": "python",
   "name": "python3"
  },
  "language_info": {
   "codemirror_mode": {
    "name": "ipython",
    "version": 3
   },
   "file_extension": ".py",
   "mimetype": "text/x-python",
   "name": "python",
   "nbconvert_exporter": "python",
   "pygments_lexer": "ipython3",
   "version": "3.8.10"
  },
  "orig_nbformat": 4,
  "vscode": {
   "interpreter": {
    "hash": "767d51c1340bd893661ea55ea3124f6de3c7a262a8b4abca0554b478b1e2ff90"
   }
  }
 },
 "nbformat": 4,
 "nbformat_minor": 2
}
