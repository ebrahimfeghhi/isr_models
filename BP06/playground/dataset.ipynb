{
 "cells": [
  {
   "cell_type": "code",
   "execution_count": 1,
   "metadata": {},
   "outputs": [],
   "source": [
    "import torch \n",
    "import torch.nn as nn\n",
    "from torch.utils.data import Dataset, DataLoader\n",
    "import numpy as np\n",
    "from itertools import permutations \n",
    "import sys\n",
    "base = '/home3/ebrahim/isr/'\n",
    "sys.path.append(base)\n",
    "from datasets import OneHotLetters, OneHotLetters_test\n",
    "from RNNcell import RNN_one_layer\n",
    "from sklearn.linear_model import LogisticRegression, Ridge\n",
    "from sklearn.preprocessing import OneHotEncoder\n",
    "from sklearn.metrics import r2_score\n",
    "from matplotlib import pyplot as plt\n",
    "from skimage.measure import block_reduce\n",
    "from scipy.stats import pearsonr\n",
    "import pandas as pd\n",
    "import seaborn as sns\n",
    "import pickle\n",
    "from itertools import permutations, islice\n",
    "import wandb\n"
   ]
  },
  {
   "cell_type": "code",
   "execution_count": 4,
   "metadata": {},
   "outputs": [],
   "source": [
    "rtt = DataLoader(OneHotLetters(9, 100, '/home3/ebrahim/isr/test_set/test_lists_set.pkl', batch_size=1, num_letters=26, \n",
    "delay_start=0, delay_middle=0, double_trial=True, storage_frac=1.0), batch_size=1, shuffle=False)"
   ]
  },
  {
   "cell_type": "code",
   "execution_count": 5,
   "metadata": {},
   "outputs": [
    {
     "name": "stdout",
     "output_type": "stream",
     "text": [
      "torch.Size([1, 10, 28])\n"
     ]
    }
   ],
   "source": [
    "for batch_idx, (X2,y2) in enumerate(rtt):\n",
    "    print(y2.shape)\n",
    "    break"
   ]
  },
  {
   "cell_type": "code",
   "execution_count": 4,
   "metadata": {},
   "outputs": [
    {
     "name": "stdout",
     "output_type": "stream",
     "text": [
      "torch.Size([2, 28])\n"
     ]
    }
   ],
   "source": [
    "X = X2[0, 3:]\n",
    "X_recall = X[1:]\n",
    "print(X_recall.shape)"
   ]
  },
  {
   "cell_type": "code",
   "execution_count": 16,
   "metadata": {},
   "outputs": [
    {
     "name": "stdout",
     "output_type": "stream",
     "text": [
      "(5, 28)\n"
     ]
    }
   ],
   "source": [
    "delay_from_previous_list = np.ones(3) * (27)\n",
    "ds = torch.nn.functional.one_hot(torch.from_numpy(delay_from_previous_list).to(torch.long), num_classes=28)\n",
    "storage_list = np.vstack((ds, X_recall))\n",
    "print(storage_list.shape)"
   ]
  },
  {
   "cell_type": "code",
   "execution_count": 6,
   "metadata": {},
   "outputs": [],
   "source": [
    "dataset = OneHotLetters_test('/home3/ebrahim/isr/test_set/test_lists_dict_small.pkl', 6, \n",
    "                26, '', delay_start=3, delay_middle=2)\n",
    "test = DataLoader(dataset, batch_size=1, shuffle=True)"
   ]
  },
  {
   "cell_type": "code",
   "execution_count": 7,
   "metadata": {},
   "outputs": [
    {
     "name": "stdout",
     "output_type": "stream",
     "text": [
      "torch.Size([1, 18, 28])\n"
     ]
    }
   ],
   "source": [
    "for i, (X,y) in enumerate(test):\n",
    "    print(X.shape)\n",
    "    \n",
    "    "
   ]
  },
  {
   "cell_type": "code",
   "execution_count": null,
   "metadata": {},
   "outputs": [],
   "source": []
  },
  {
   "cell_type": "code",
   "execution_count": null,
   "metadata": {},
   "outputs": [],
   "source": []
  }
 ],
 "metadata": {
  "kernelspec": {
   "display_name": "Python 3.8.10 64-bit",
   "language": "python",
   "name": "python3"
  },
  "language_info": {
   "codemirror_mode": {
    "name": "ipython",
    "version": 3
   },
   "file_extension": ".py",
   "mimetype": "text/x-python",
   "name": "python",
   "nbconvert_exporter": "python",
   "pygments_lexer": "ipython3",
   "version": "3.8.10"
  },
  "orig_nbformat": 4,
  "vscode": {
   "interpreter": {
    "hash": "767d51c1340bd893661ea55ea3124f6de3c7a262a8b4abca0554b478b1e2ff90"
   }
  }
 },
 "nbformat": 4,
 "nbformat_minor": 2
}
