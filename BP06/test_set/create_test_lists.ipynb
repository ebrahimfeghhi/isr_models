{
 "cells": [
  {
   "cell_type": "code",
   "execution_count": 2,
   "metadata": {},
   "outputs": [],
   "source": [
    "from itertools import permutations, islice\n",
    "import numpy as np\n",
    "import math\n",
    "import pickle\n",
    "import torch\n",
    "from sklearn.preprocessing import OneHotEncoder\n",
    "import torch "
   ]
  },
  {
   "cell_type": "code",
   "execution_count": 6,
   "metadata": {},
   "outputs": [],
   "source": [
    "def num_permutations(N, p):\n",
    "\n",
    "    '''\n",
    "    Returns how many length p lists are when the vocabulary size is N.\n",
    "    @param N: vocabulary size\n",
    "    @param p: list lenght\n",
    "    '''\n",
    "\n",
    "    return int(math.factorial(N) / math.factorial(N-p))"
   ]
  },
  {
   "cell_type": "code",
   "execution_count": 8,
   "metadata": {},
   "outputs": [],
   "source": [
    "def generate_test_set(test_name, num_lists_per_length, max_frac, protrusions, \n",
    "                        ll_range, letters_testing=26, protrusion_ll=6, num_protrusion_lists=300):\n",
    "\n",
    "    '''\n",
    "    Generates a test set\n",
    "    @param test_name: name to save file \n",
    "    @param num_lists_per_length: \n",
    "    @param max_frac: the max fraction of all lists at a given length that can be reserved\n",
    "    for testing.\n",
    "    @param protrusions: if true, split vocabulary into two distinct sets. Form consecutive lists \n",
    "    from distinct sets. \n",
    "    @param ll_range: list length range\n",
    "    @param letters_testing: vocabulary size \n",
    "    protrusion_ll: list length used to test protrusions\n",
    "    num_protrusions_list: how many trials to include for testin protrusions\n",
    "    '''\n",
    "\n",
    "    test_lists_dict = {}\n",
    "\n",
    "    letters = np.arange(letters_testing)\n",
    "\n",
    "    for ll in range(1, ll_range+1, 1):\n",
    "\n",
    "        # number of possible lists of a given length \n",
    "        num_possible_lists = num_permutations(letters_testing, ll)\n",
    "\n",
    "        # place a max limit on the number of lists reserved for testing\n",
    "        # max limit is set by the max_frac threshold \n",
    "        max_lists_for_testing = int(max_frac*num_possible_lists)\n",
    "\n",
    "        if max_lists_for_testing < num_lists_per_length:\n",
    "            num_lists = max_lists_for_testing\n",
    "        else:\n",
    "            num_lists = num_lists_per_length\n",
    "\n",
    "        # if number  of possible lists is a reasonable size,\n",
    "        # evenly step through all possible permutations \n",
    "        if num_possible_lists < 1e8:\n",
    "            # round up to prevent step size from being 0 \n",
    "            step_size = math.ceil(num_possible_lists / num_lists)\n",
    "\n",
    "            test_lists_dict[str(ll)] = list(islice(permutations(letters, ll), \n",
    "                                None, None, step_size))\n",
    "\n",
    "         # if the number of possible lists is too large, use random sampling \n",
    "        else:\n",
    "            test_lists_dict[str(ll)] = []\n",
    "            for i in np.arange(num_lists):\n",
    "                rng = np.random.default_rng(seed=i)\n",
    "                test_lists_dict[str(ll)].append(tuple(rng.choice(letters, ll, replace=False)))\n",
    "\n",
    "    if protrusions: \n",
    "\n",
    "        test_lists_dict_paired = {}\n",
    "        list_even, list_odd = np.split(letters, 2)\n",
    "        num_possible_protrusion_lists = num_permutations(list_even.shape[0], protrusion_ll)\n",
    "        max_lists_for_testing = int(max_frac*num_possible_lists)\n",
    "\n",
    "        step_size = math.ceil(num_possible_protrusion_lists / num_protrusion_lists)\n",
    "        \n",
    "        test_lists_dict_paired = {}\n",
    "        test_lists_dict_paired['even'] = list(islice(permutations(list_even, protrusion_ll), \n",
    "                                                                    None, None, step_size))\n",
    "        test_lists_dict_paired['odd'] = list(islice(permutations(list_odd, protrusion_ll), \n",
    "                                                                    None, None, step_size))\n",
    "\n",
    "        # add protrusion trials to the normal test set so they are not \n",
    "        # included in training \n",
    "        p_trials = []\n",
    "        for x, y in zip(test_lists_dict_paired['even'],test_lists_dict_paired['odd']):\n",
    "            test_lists_dict[str(protrusion_ll)].append(x)\n",
    "            test_lists_dict[str(protrusion_ll)].append(y)\n",
    "            p_trials.append(x)\n",
    "            p_trials.append(y)\n",
    "\n",
    "        p_trials_dict = {}\n",
    "        p_trials_dict['even_odd'] = p_trials\n",
    "\n",
    "    \n",
    "    # create a set version of the dict\n",
    "    # this speeds up access for removing\n",
    "    # testing trials from training \n",
    "    test_lists_set= {}\n",
    "    for ll in test_lists_dict.keys():\n",
    "        test_lists_set[str(ll)] = set(test_lists_dict[str(ll)])\n",
    "\n",
    "    with open(f'{test_name}.pkl', 'wb') as f:\n",
    "        pickle.dump(test_lists_dict, f)\n",
    "\n",
    "    with open(f'{test_name}_set.pkl', 'wb') as f:\n",
    "        pickle.dump(test_lists_set, f)\n",
    "\n",
    "    if protrusions:\n",
    "        with open(f'{test_name}_protrusions.pkl', 'wb') as f:\n",
    "            pickle.dump(p_trials_dict, f)\n",
    "            \n",
    "        with open(f'{test_name}_protrusions_set.pkl', 'wb') as f:\n",
    "            pickle.dump(set(p_trials_dict), f)\n",
    "\n",
    "    return test_lists_dict, test_lists_dict_paired"
   ]
  },
  {
   "cell_type": "code",
   "execution_count": 9,
   "metadata": {},
   "outputs": [],
   "source": [
    "test_lists_dict, tl_paired = generate_test_set(test_name = 'test_lists_cleaned_26', \n",
    "                                    num_lists_per_length=1500, max_frac=0.3, protrusions=True,\n",
    "                                    ll_range=9, letters_testing=26) "
   ]
  },
  {
   "cell_type": "code",
   "execution_count": 6,
   "metadata": {},
   "outputs": [
    {
     "data": {
      "text/plain": [
       "array([13, 14, 15, 16, 17, 18, 19, 20, 21, 22, 23, 24, 25])"
      ]
     },
     "execution_count": 6,
     "metadata": {},
     "output_type": "execute_result"
    }
   ],
   "source": [
    "list_even, list_odd = np.split(np.arange(26), 2)\n"
   ]
  },
  {
   "cell_type": "code",
   "execution_count": null,
   "metadata": {},
   "outputs": [],
   "source": []
  }
 ],
 "metadata": {
  "kernelspec": {
   "display_name": "Python 3.8.10 64-bit",
   "language": "python",
   "name": "python3"
  },
  "language_info": {
   "codemirror_mode": {
    "name": "ipython",
    "version": 3
   },
   "file_extension": ".py",
   "mimetype": "text/x-python",
   "name": "python",
   "nbconvert_exporter": "python",
   "pygments_lexer": "ipython3",
   "version": "3.8.10"
  },
  "orig_nbformat": 4,
  "vscode": {
   "interpreter": {
    "hash": "e7370f93d1d0cde622a1f8e1c04877d8463912d04d973331ad4851f04de6915a"
   }
  }
 },
 "nbformat": 4,
 "nbformat_minor": 2
}
