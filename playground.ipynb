{
 "cells": [
  {
   "cell_type": "code",
   "execution_count": 2,
   "metadata": {},
   "outputs": [],
   "source": [
    "import numpy as np\n",
    "from matplotlib import pyplot as plt"
   ]
  },
  {
   "cell_type": "code",
   "execution_count": 13,
   "metadata": {},
   "outputs": [
    {
     "name": "stdout",
     "output_type": "stream",
     "text": [
      "{1: 0, 2: 0, 3: 1, 4: 0, 5: 0, 6: 0}\n",
      "{1: 0, 2: 0, 3: 0, 4: 0, 5: 0, 6: 1}\n"
     ]
    }
   ],
   "source": [
    "a = np.array([1,2,3,4,5,6])\n",
    "b = np.array([1,2,4,6,5,-1])\n",
    "\n",
    "omission_inp_pos = {}\n",
    "omission_out_pos = {}\n",
    "for i in range(1,7,1):\n",
    "    omission_inp_pos[i] = 0\n",
    "    omission_out_pos[i] = 0\n",
    "    \n",
    "for pos_inp, item in enumerate(a):\n",
    "    if item not in b:\n",
    "        omission_inp_pos[pos_inp+1] += 1\n",
    "        \n",
    "for pos_out, item in enumerate(b):\n",
    "    if item == -1:\n",
    "        omission_out_pos[pos_out+1] += 1\n",
    "        \n",
    "        \n",
    "print(omission_inp_pos)\n",
    "print(omission_out_pos)"
   ]
  },
  {
   "cell_type": "code",
   "execution_count": 22,
   "metadata": {},
   "outputs": [
    {
     "data": {
      "text/plain": [
       "[<matplotlib.lines.Line2D at 0x7f861894f130>]"
      ]
     },
     "execution_count": 22,
     "metadata": {},
     "output_type": "execute_result"
    },
    {
     "data": {
      "image/png": "[encoded data removed]",
      "text/plain": [
       "<Figure size 864x288 with 2 Axes>"
      ]
     },
     "metadata": {
      "needs_background": "light"
     },
     "output_type": "display_data"
    }
   ],
   "source": [
    "a = np.array([1,2,3])\n",
    "b = np.array([4,5,3])\n",
    "fig, ax = plt.subplots(1,2, figsize=(12,4))\n",
    "ax[0].plot(a)"
   ]
  }
 ],
 "metadata": {
  "kernelspec": {
   "display_name": "base",
   "language": "python",
   "name": "python3"
  },
  "language_info": {
   "codemirror_mode": {
    "name": "ipython",
    "version": 3
   },
   "file_extension": ".py",
   "mimetype": "text/x-python",
   "name": "python",
   "nbconvert_exporter": "python",
   "pygments_lexer": "ipython3",
   "version": "3.9.7"
  },
  "orig_nbformat": 4
 },
 "nbformat": 4,
 "nbformat_minor": 2
}
